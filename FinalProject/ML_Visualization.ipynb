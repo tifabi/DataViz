{
 "cells": [
  {
   "cell_type": "markdown",
   "metadata": {},
   "source": [
    "# Heritage Health End-to-end Machine Learning project\n",
    "\n",
    "This notebook has been modified for the Heritage Health dataset from the Lab-End_to_end_Machine_Learning_Project-IU notebook."
   ]
  },
  {
   "cell_type": "markdown",
   "metadata": {},
   "source": [
    "## Phase-1 Updates:\n",
    "\n",
    "Numerical Features in Focus: \n",
    "\n",
    "Categorical Features:Gender\n",
    "\n",
    "Target Feature: Days in Hospital\n",
    "\n",
    "### Major Developments:\n",
    "* Load data\n",
    "* Basic feature engineering\n",
    "* Build a pipeline for linear regression"
   ]
  },
  {
   "cell_type": "markdown",
   "metadata": {},
   "source": [
    "## Phase-2 Updates:\n",
    "Numerical Features in Focus:\n",
    "* 'LengthOfStay.daysCount'\n",
    "* 'PayDelayCount'\n",
    "* 'ProcedureGroup_EM'\n",
    "* 'max_DrugCount'\n",
    "* 'ClaimsTruncated'\n",
    "* 'max_CharlsonIndexI'\n",
    "* 'avg_DrugCount'\n",
    "* 'PayDelaySum'\n",
    "* 'Specialty_Diagnostic Imaging'\n",
    "* 'avg_CharlsonIndexI'\n",
    "* 'months_LabCount'\n",
    "* 'Specialty_Internal'\n",
    "* 'max_LOS'\n",
    "* 'PlaceSvc_Office'\n",
    "* 'ProcedureGroup_RAD'\n",
    "* 'LabCountSum'\n",
    "* 'max_PayDelay'\n",
    "* 'Specialty_Emergency'\n",
    "* 'avg_LOS','PlaceSvc_Inpatient Hospital'\n",
    "* 'months_DrugCount'\n",
    "* 'AgeI'\n",
    "* 'ProcedureGroup_PL'\n",
    "* 'max_dsfs'\n",
    "* 'range_CharlsonIndexI'\n",
    "\n",
    "Target Feature: Days in Hospital\n",
    "\n",
    "### Major Developments: \n",
    "* Feature Pipeline\n",
    "* Decision Tree\n",
    "* Random Forest"
   ]
  },
  {
   "cell_type": "markdown",
   "metadata": {},
   "source": [
    "## Phase-3 Updates:\n",
    "Numerical Features in Focus: * 'LengthOfStay.daysCount'\n",
    "* 'PayDelayCount'\n",
    "* 'ProcedureGroup_EM'\n",
    "* 'max_DrugCount'\n",
    "* 'ClaimsTruncated'\n",
    "* 'max_CharlsonIndexI'\n",
    "* 'avg_DrugCount'\n",
    "* 'PayDelaySum'\n",
    "* 'Specialty_Diagnostic Imaging'\n",
    "* 'avg_CharlsonIndexI'\n",
    "* 'months_LabCount'\n",
    "* 'Specialty_Internal'\n",
    "* 'max_LOS'\n",
    "* 'PlaceSvc_Office'\n",
    "* 'ProcedureGroup_RAD'\n",
    "* 'LabCountSum'\n",
    "* 'max_PayDelay'\n",
    "* 'Specialty_Emergency'\n",
    "* 'avg_LOS','PlaceSvc_Inpatient Hospital'\n",
    "* 'months_DrugCount'\n",
    "* 'AgeI'\n",
    "* 'ProcedureGroup_PL'\n",
    "* 'max_dsfs'\n",
    "* 'range_CharlsonIndexI'\n",
    "\n",
    "Target Feature: Days in Hospital\n",
    "\n",
    "### Major Developments:\n",
    "* Feature Engineering\n",
    "* Hyperparameter tuning - so much gridsearch!\n",
    "\n",
    "\n",
    "## Phase-4 Updates:\n",
    "New Features Considered:\n",
    "* 'ProcedureGroup_ANES',\n",
    "* 'ProcedureGroup_SMCD',\n",
    "* 'PlaceSvc_Ambulance',\n",
    "* 'PlaceSvc_Independent Lab',\n",
    "* 'Specialty_Anesthesiology',\n",
    "* 'Specialty_Diagnostic Imaging',\n",
    "* 'Specialty_Emergency',\n",
    "* 'Specialty_Laboratory',\n",
    "* 'Specialty_Obstetrics and Gynecology',\n",
    "* 'Specialty_Pathology',\n",
    "* 'Specialty_Pediatrics',\n",
    "* 'Specialty_Rehabilitation',\n",
    "* 'PrimaryConditionGroup_APPCHOL',\n",
    "* 'PrimaryConditionGroup_FXDISLC',\n",
    "* 'PrimaryConditionGroup_GIOBSENT',\n",
    "* 'PrimaryConditionGroup_GYNEC1',\n",
    "\n",
    "\n",
    "Target Feature: Days in Hospital\n",
    "\n",
    "### Major Developments:\n",
    "* Model Selection\n",
    "* Model Features selected via Gridsearch\n",
    "* Success/Failure Analysis"
   ]
  },
  {
   "cell_type": "markdown",
   "metadata": {},
   "source": [
    "# Importing needed Libraries"
   ]
  },
  {
   "cell_type": "code",
   "execution_count": 1,
   "metadata": {},
   "outputs": [],
   "source": [
    "from __future__ import division, print_function, unicode_literals\n",
    "\n",
    "# Common imports\n",
    "import numpy as np\n",
    "import os\n",
    "import pandas as pd\n",
    "from time import time\n",
    "from collections import Counter\n",
    "\n",
    "# to make this notebook's output stable across runs\n",
    "np.random.seed(42)\n",
    "\n",
    "# To plot pretty figures\n",
    "%matplotlib inline\n",
    "import matplotlib\n",
    "import matplotlib.pyplot as plt\n",
    "plt.rcParams['axes.labelsize'] = 14\n",
    "plt.rcParams['xtick.labelsize'] = 12\n",
    "plt.rcParams['ytick.labelsize'] = 12\n",
    "\n",
    "# Machine Learning\n",
    "from sklearn import preprocessing\n",
    "from sklearn.base import BaseEstimator, TransformerMixin\n",
    "from sklearn.metrics import mean_squared_error, accuracy_score, mean_absolute_error\n",
    "from sklearn.tree import DecisionTreeRegressor\n",
    "from sklearn.model_selection import cross_val_score\n",
    "from sklearn.ensemble import RandomForestRegressor, RandomForestClassifier\n",
    "from sklearn.linear_model import Lasso, LinearRegression, LogisticRegression, Ridge, SGDClassifier, ElasticNet\n",
    "from sklearn.model_selection import train_test_split, GridSearchCV, cross_val_score, ShuffleSplit, StratifiedKFold, RandomizedSearchCV\n",
    "from sklearn.pipeline import FeatureUnion, Pipeline\n",
    "from scipy.stats import randint\n",
    "from scipy import sparse, stats\n",
    "from sklearn.preprocessing import StandardScaler, Imputer, LabelEncoder\n",
    "from sklearn.feature_selection import RFE\n",
    "from sklearn.svm import SVC, SVR\n",
    "from sklearn.utils import check_array\n",
    "from sklearn_pandas import CategoricalImputer\n",
    "from sklearn.discriminant_analysis import LinearDiscriminantAnalysis\n",
    "from sklearn.naive_bayes import GaussianNB\n",
    "from sklearn.svm import SVC\n",
    "from sklearn.neighbors import KNeighborsClassifier\n",
    "from sklearn.tree import DecisionTreeClassifier"
   ]
  },
  {
   "cell_type": "markdown",
   "metadata": {},
   "source": [
    "# Load Data"
   ]
  },
  {
   "cell_type": "code",
   "execution_count": 2,
   "metadata": {},
   "outputs": [],
   "source": [
    "# Set the directory containing the raw data files\n",
    "DATA_DIR = os.path.join('data/HHP_release3')"
   ]
  },
  {
   "cell_type": "code",
   "execution_count": 3,
   "metadata": {},
   "outputs": [],
   "source": [
    "def load_health_data(data_path,filename):\n",
    "    csv_path = os.path.join(data_path, filename)\n",
    "    return pd.read_csv(csv_path)"
   ]
  },
  {
   "cell_type": "markdown",
   "metadata": {},
   "source": [
    "# Preprocessing"
   ]
  },
  {
   "cell_type": "markdown",
   "metadata": {},
   "source": [
    "The DataFrameSelector class is used in our pipeline to select the attributes."
   ]
  },
  {
   "cell_type": "code",
   "execution_count": 4,
   "metadata": {},
   "outputs": [],
   "source": [
    "class DataFrameSelector(BaseEstimator, TransformerMixin):\n",
    "    def __init__(self, attribute_names):\n",
    "        self.attribute_names = attribute_names\n",
    "    def fit(self, X, y=None):\n",
    "        return self\n",
    "    def transform(self, X):\n",
    "        return X[self.attribute_names].values"
   ]
  },
  {
   "cell_type": "markdown",
   "metadata": {},
   "source": [
    "The ttest function will be used to identify significance between our models."
   ]
  },
  {
   "cell_type": "code",
   "execution_count": 5,
   "metadata": {},
   "outputs": [],
   "source": [
    "def ttest(control, treatment):\n",
    "    #paired t-test; two-tailed p-value      A   ,    B\n",
    "    (t_score, p_value) = stats.ttest_rel(control, treatment)\n",
    "\n",
    "    if p_value > 0.05/2:  #Two sided \n",
    "        print('There is no significant difference between the two machine learning pipelines (Accept H0)')\n",
    "    else:\n",
    "        print('The two machine learning pipelines are different (reject H0) \\n(t_score, p_value) = (%.2f, %.5f)'%(t_score, p_value) )\n",
    "\n",
    "    return p_value"
   ]
  },
  {
   "cell_type": "markdown",
   "metadata": {},
   "source": [
    "# Load Provided Training Set"
   ]
  },
  {
   "cell_type": "markdown",
   "metadata": {},
   "source": [
    "Here we are loading and exploring the provided training dataset."
   ]
  },
  {
   "cell_type": "code",
   "execution_count": 6,
   "metadata": {},
   "outputs": [
    {
     "data": {
      "text/html": [
       "<div>\n",
       "<style scoped>\n",
       "    .dataframe tbody tr th:only-of-type {\n",
       "        vertical-align: middle;\n",
       "    }\n",
       "\n",
       "    .dataframe tbody tr th {\n",
       "        vertical-align: top;\n",
       "    }\n",
       "\n",
       "    .dataframe thead th {\n",
       "        text-align: right;\n",
       "    }\n",
       "</style>\n",
       "<table border=\"1\" class=\"dataframe\">\n",
       "  <thead>\n",
       "    <tr style=\"text-align: right;\">\n",
       "      <th></th>\n",
       "      <th>MemberID</th>\n",
       "      <th>LabCountCount</th>\n",
       "      <th>LabCountMean</th>\n",
       "      <th>LabCountMax</th>\n",
       "      <th>LabCountMin</th>\n",
       "      <th>LabCountSum</th>\n",
       "      <th>PayDelayCount</th>\n",
       "      <th>PayDelayMean</th>\n",
       "      <th>PayDelayMax</th>\n",
       "      <th>PayDelayMin</th>\n",
       "      <th>...</th>\n",
       "      <th>PrimaryConditionGroup_RENAL2</th>\n",
       "      <th>PrimaryConditionGroup_RENAL3</th>\n",
       "      <th>PrimaryConditionGroup_RESPR4</th>\n",
       "      <th>PrimaryConditionGroup_ROAMI</th>\n",
       "      <th>PrimaryConditionGroup_SEIZURE</th>\n",
       "      <th>PrimaryConditionGroup_SEPSIS</th>\n",
       "      <th>PrimaryConditionGroup_SKNAUT</th>\n",
       "      <th>PrimaryConditionGroup_STROKE</th>\n",
       "      <th>PrimaryConditionGroup_TRAUMA</th>\n",
       "      <th>PrimaryConditionGroup_UTI</th>\n",
       "    </tr>\n",
       "  </thead>\n",
       "  <tbody>\n",
       "    <tr>\n",
       "      <th>0</th>\n",
       "      <td>10001471</td>\n",
       "      <td>2</td>\n",
       "      <td>7.000000</td>\n",
       "      <td>9</td>\n",
       "      <td>5</td>\n",
       "      <td>14</td>\n",
       "      <td>12</td>\n",
       "      <td>71.583333</td>\n",
       "      <td>132</td>\n",
       "      <td>17</td>\n",
       "      <td>...</td>\n",
       "      <td>0</td>\n",
       "      <td>0</td>\n",
       "      <td>1</td>\n",
       "      <td>1</td>\n",
       "      <td>0</td>\n",
       "      <td>0</td>\n",
       "      <td>0</td>\n",
       "      <td>0</td>\n",
       "      <td>0</td>\n",
       "      <td>0</td>\n",
       "    </tr>\n",
       "    <tr>\n",
       "      <th>1</th>\n",
       "      <td>10002388</td>\n",
       "      <td>2</td>\n",
       "      <td>7.000000</td>\n",
       "      <td>8</td>\n",
       "      <td>6</td>\n",
       "      <td>14</td>\n",
       "      <td>41</td>\n",
       "      <td>58.731707</td>\n",
       "      <td>163</td>\n",
       "      <td>13</td>\n",
       "      <td>...</td>\n",
       "      <td>1</td>\n",
       "      <td>4</td>\n",
       "      <td>0</td>\n",
       "      <td>6</td>\n",
       "      <td>0</td>\n",
       "      <td>0</td>\n",
       "      <td>0</td>\n",
       "      <td>0</td>\n",
       "      <td>0</td>\n",
       "      <td>4</td>\n",
       "    </tr>\n",
       "    <tr>\n",
       "      <th>2</th>\n",
       "      <td>10003523</td>\n",
       "      <td>6</td>\n",
       "      <td>4.333333</td>\n",
       "      <td>8</td>\n",
       "      <td>1</td>\n",
       "      <td>26</td>\n",
       "      <td>38</td>\n",
       "      <td>40.526316</td>\n",
       "      <td>163</td>\n",
       "      <td>21</td>\n",
       "      <td>...</td>\n",
       "      <td>0</td>\n",
       "      <td>1</td>\n",
       "      <td>0</td>\n",
       "      <td>0</td>\n",
       "      <td>0</td>\n",
       "      <td>0</td>\n",
       "      <td>0</td>\n",
       "      <td>0</td>\n",
       "      <td>0</td>\n",
       "      <td>0</td>\n",
       "    </tr>\n",
       "    <tr>\n",
       "      <th>3</th>\n",
       "      <td>10004817</td>\n",
       "      <td>1</td>\n",
       "      <td>1.000000</td>\n",
       "      <td>1</td>\n",
       "      <td>1</td>\n",
       "      <td>1</td>\n",
       "      <td>15</td>\n",
       "      <td>62.333333</td>\n",
       "      <td>133</td>\n",
       "      <td>24</td>\n",
       "      <td>...</td>\n",
       "      <td>0</td>\n",
       "      <td>0</td>\n",
       "      <td>0</td>\n",
       "      <td>0</td>\n",
       "      <td>0</td>\n",
       "      <td>0</td>\n",
       "      <td>2</td>\n",
       "      <td>0</td>\n",
       "      <td>0</td>\n",
       "      <td>0</td>\n",
       "    </tr>\n",
       "    <tr>\n",
       "      <th>4</th>\n",
       "      <td>10008724</td>\n",
       "      <td>1</td>\n",
       "      <td>6.000000</td>\n",
       "      <td>6</td>\n",
       "      <td>6</td>\n",
       "      <td>6</td>\n",
       "      <td>6</td>\n",
       "      <td>68.500000</td>\n",
       "      <td>141</td>\n",
       "      <td>11</td>\n",
       "      <td>...</td>\n",
       "      <td>0</td>\n",
       "      <td>0</td>\n",
       "      <td>0</td>\n",
       "      <td>0</td>\n",
       "      <td>0</td>\n",
       "      <td>0</td>\n",
       "      <td>0</td>\n",
       "      <td>0</td>\n",
       "      <td>0</td>\n",
       "      <td>0</td>\n",
       "    </tr>\n",
       "  </tbody>\n",
       "</table>\n",
       "<p>5 rows × 104 columns</p>\n",
       "</div>"
      ],
      "text/plain": [
       "   MemberID  LabCountCount  LabCountMean  LabCountMax  LabCountMin  \\\n",
       "0  10001471              2      7.000000            9            5   \n",
       "1  10002388              2      7.000000            8            6   \n",
       "2  10003523              6      4.333333            8            1   \n",
       "3  10004817              1      1.000000            1            1   \n",
       "4  10008724              1      6.000000            6            6   \n",
       "\n",
       "   LabCountSum  PayDelayCount  PayDelayMean  PayDelayMax  PayDelayMin  \\\n",
       "0           14             12     71.583333          132           17   \n",
       "1           14             41     58.731707          163           13   \n",
       "2           26             38     40.526316          163           21   \n",
       "3            1             15     62.333333          133           24   \n",
       "4            6              6     68.500000          141           11   \n",
       "\n",
       "             ...              PrimaryConditionGroup_RENAL2  \\\n",
       "0            ...                                         0   \n",
       "1            ...                                         1   \n",
       "2            ...                                         0   \n",
       "3            ...                                         0   \n",
       "4            ...                                         0   \n",
       "\n",
       "   PrimaryConditionGroup_RENAL3  PrimaryConditionGroup_RESPR4  \\\n",
       "0                             0                             1   \n",
       "1                             4                             0   \n",
       "2                             1                             0   \n",
       "3                             0                             0   \n",
       "4                             0                             0   \n",
       "\n",
       "   PrimaryConditionGroup_ROAMI  PrimaryConditionGroup_SEIZURE  \\\n",
       "0                            1                              0   \n",
       "1                            6                              0   \n",
       "2                            0                              0   \n",
       "3                            0                              0   \n",
       "4                            0                              0   \n",
       "\n",
       "   PrimaryConditionGroup_SEPSIS  PrimaryConditionGroup_SKNAUT  \\\n",
       "0                             0                             0   \n",
       "1                             0                             0   \n",
       "2                             0                             0   \n",
       "3                             0                             2   \n",
       "4                             0                             0   \n",
       "\n",
       "   PrimaryConditionGroup_STROKE  PrimaryConditionGroup_TRAUMA  \\\n",
       "0                             0                             0   \n",
       "1                             0                             0   \n",
       "2                             0                             0   \n",
       "3                             0                             0   \n",
       "4                             0                             0   \n",
       "\n",
       "   PrimaryConditionGroup_UTI  \n",
       "0                          0  \n",
       "1                          4  \n",
       "2                          0  \n",
       "3                          0  \n",
       "4                          0  \n",
       "\n",
       "[5 rows x 104 columns]"
      ]
     },
     "execution_count": 6,
     "metadata": {},
     "output_type": "execute_result"
    }
   ],
   "source": [
    "train_X = load_health_data(DATA_DIR,'trainY2_Y3.csv')\n",
    "train_X.head()"
   ]
  },
  {
   "cell_type": "markdown",
   "metadata": {},
   "source": [
    "Make the Label LengthOfStay.daysSum"
   ]
  },
  {
   "cell_type": "code",
   "execution_count": 7,
   "metadata": {},
   "outputs": [],
   "source": [
    "train_X_labels = train_X['DaysInHospital'].copy()\n",
    "#train_X = train_X.drop(['DaysInHospital'], axis=1) \n",
    "# drop labels for training set"
   ]
  },
  {
   "cell_type": "markdown",
   "metadata": {},
   "source": [
    "Check for any missing values:"
   ]
  },
  {
   "cell_type": "code",
   "execution_count": 8,
   "metadata": {},
   "outputs": [
    {
     "data": {
      "text/html": [
       "<div>\n",
       "<style scoped>\n",
       "    .dataframe tbody tr th:only-of-type {\n",
       "        vertical-align: middle;\n",
       "    }\n",
       "\n",
       "    .dataframe tbody tr th {\n",
       "        vertical-align: top;\n",
       "    }\n",
       "\n",
       "    .dataframe thead th {\n",
       "        text-align: right;\n",
       "    }\n",
       "</style>\n",
       "<table border=\"1\" class=\"dataframe\">\n",
       "  <thead>\n",
       "    <tr style=\"text-align: right;\">\n",
       "      <th></th>\n",
       "      <th>MemberID</th>\n",
       "      <th>LabCountCount</th>\n",
       "      <th>LabCountMean</th>\n",
       "      <th>LabCountMax</th>\n",
       "      <th>LabCountMin</th>\n",
       "      <th>LabCountSum</th>\n",
       "      <th>PayDelayCount</th>\n",
       "      <th>PayDelayMean</th>\n",
       "      <th>PayDelayMax</th>\n",
       "      <th>PayDelayMin</th>\n",
       "      <th>...</th>\n",
       "      <th>PrimaryConditionGroup_RENAL2</th>\n",
       "      <th>PrimaryConditionGroup_RENAL3</th>\n",
       "      <th>PrimaryConditionGroup_RESPR4</th>\n",
       "      <th>PrimaryConditionGroup_ROAMI</th>\n",
       "      <th>PrimaryConditionGroup_SEIZURE</th>\n",
       "      <th>PrimaryConditionGroup_SEPSIS</th>\n",
       "      <th>PrimaryConditionGroup_SKNAUT</th>\n",
       "      <th>PrimaryConditionGroup_STROKE</th>\n",
       "      <th>PrimaryConditionGroup_TRAUMA</th>\n",
       "      <th>PrimaryConditionGroup_UTI</th>\n",
       "    </tr>\n",
       "  </thead>\n",
       "  <tbody>\n",
       "  </tbody>\n",
       "</table>\n",
       "<p>0 rows × 104 columns</p>\n",
       "</div>"
      ],
      "text/plain": [
       "Empty DataFrame\n",
       "Columns: [MemberID, LabCountCount, LabCountMean, LabCountMax, LabCountMin, LabCountSum, PayDelayCount, PayDelayMean, PayDelayMax, PayDelayMin, PayDelaySum, LengthOfStay.daysCount, LengthOfStay.daysMean, LengthOfStay.daysMax, LengthOfStay.daysMin, LengthOfStay.daysSum, ClaimsTruncated, DaysInHospital, ProcedureGroup_Var.2, ProcedureGroup_ANES, ProcedureGroup_EM, ProcedureGroup_MED, ProcedureGroup_PL, ProcedureGroup_RAD, ProcedureGroup_SAS, ProcedureGroup_SCS, ProcedureGroup_SDS, ProcedureGroup_SEOA, ProcedureGroup_SGS, ProcedureGroup_SIS, ProcedureGroup_SMCD, ProcedureGroup_SMS, ProcedureGroup_SNS, ProcedureGroup_SO, ProcedureGroup_SRS, ProcedureGroup_SUS, PlaceSvc_Var.2, PlaceSvc_Ambulance, PlaceSvc_Home, PlaceSvc_Independent Lab, PlaceSvc_Inpatient Hospital, PlaceSvc_Office, PlaceSvc_Other, PlaceSvc_Outpatient Hospital, PlaceSvc_Urgent Care, Specialty_Var.2, Specialty_Anesthesiology, Specialty_Diagnostic Imaging, Specialty_Emergency, Specialty_General Practice, Specialty_Internal, Specialty_Laboratory, Specialty_Obstetrics and Gynecology, Specialty_Other, Specialty_Pathology, Specialty_Pediatrics, Specialty_Rehabilitation, Specialty_Surgery, PrimaryConditionGroup_Var.2, PrimaryConditionGroup_AMI, PrimaryConditionGroup_APPCHOL, PrimaryConditionGroup_ARTHSPIN, PrimaryConditionGroup_CANCRA, PrimaryConditionGroup_CANCRB, PrimaryConditionGroup_CANCRM, PrimaryConditionGroup_CATAST, PrimaryConditionGroup_CHF, PrimaryConditionGroup_COPD, PrimaryConditionGroup_FLaELEC, PrimaryConditionGroup_FXDISLC, PrimaryConditionGroup_GIBLEED, PrimaryConditionGroup_GIOBSENT, PrimaryConditionGroup_GYNEC1, PrimaryConditionGroup_GYNECA, PrimaryConditionGroup_HEART2, PrimaryConditionGroup_HEART4, PrimaryConditionGroup_HEMTOL, PrimaryConditionGroup_HIPFX, PrimaryConditionGroup_INFEC4, PrimaryConditionGroup_LIVERDZ, PrimaryConditionGroup_METAB1, PrimaryConditionGroup_METAB3, PrimaryConditionGroup_MISCHRT, PrimaryConditionGroup_MISCL1, PrimaryConditionGroup_MISCL5, PrimaryConditionGroup_MSC2a3, PrimaryConditionGroup_NEUMENT, PrimaryConditionGroup_ODaBNCA, PrimaryConditionGroup_PERINTL, PrimaryConditionGroup_PERVALV, PrimaryConditionGroup_PNCRDZ, PrimaryConditionGroup_PNEUM, PrimaryConditionGroup_PRGNCY, PrimaryConditionGroup_RENAL1, PrimaryConditionGroup_RENAL2, PrimaryConditionGroup_RENAL3, PrimaryConditionGroup_RESPR4, PrimaryConditionGroup_ROAMI, PrimaryConditionGroup_SEIZURE, PrimaryConditionGroup_SEPSIS, ...]\n",
       "Index: []\n",
       "\n",
       "[0 rows x 104 columns]"
      ]
     },
     "execution_count": 8,
     "metadata": {},
     "output_type": "execute_result"
    }
   ],
   "source": [
    "sample_incomplete_rows = train_X[train_X.isnull().any(axis=1)].head()\n",
    "sample_incomplete_rows"
   ]
  },
  {
   "cell_type": "code",
   "execution_count": 9,
   "metadata": {},
   "outputs": [
    {
     "data": {
      "text/plain": [
       "0     87134\n",
       "1      6629\n",
       "2      3508\n",
       "3      2374\n",
       "4      1534\n",
       "5       895\n",
       "6       547\n",
       "7       401\n",
       "8       281\n",
       "9       226\n",
       "10      173\n",
       "11      124\n",
       "12      117\n",
       "13      100\n",
       "14       53\n",
       "15      399\n",
       "Name: DaysInHospital, dtype: int64"
      ]
     },
     "execution_count": 9,
     "metadata": {},
     "output_type": "execute_result"
    }
   ],
   "source": [
    "train_X['DaysInHospital'].value_counts(dropna=False).sort_index() "
   ]
  },
  {
   "cell_type": "markdown",
   "metadata": {},
   "source": [
    "No missing values in the data, that's good!"
   ]
  },
  {
   "cell_type": "code",
   "execution_count": 10,
   "metadata": {},
   "outputs": [
    {
     "data": {
      "text/plain": [
       "1     46580\n",
       "2     25232\n",
       "3     14054\n",
       "4      8125\n",
       "5      4162\n",
       "6      2317\n",
       "7      1188\n",
       "8       728\n",
       "9       534\n",
       "10      545\n",
       "11      596\n",
       "12      434\n",
       "Name: LabCountCount, dtype: int64"
      ]
     },
     "execution_count": 10,
     "metadata": {},
     "output_type": "execute_result"
    }
   ],
   "source": [
    "train_X['LabCountCount'].value_counts(dropna=False).sort_index() "
   ]
  },
  {
   "cell_type": "code",
   "execution_count": 11,
   "metadata": {},
   "outputs": [
    {
     "data": {
      "text/plain": [
       "1      763\n",
       "2     3059\n",
       "3     5646\n",
       "4     6238\n",
       "5     6406\n",
       "6     6271\n",
       "7     5835\n",
       "8     5225\n",
       "9     5032\n",
       "10    4561\n",
       "11    4174\n",
       "12    3769\n",
       "13    3379\n",
       "14    3192\n",
       "15    2884\n",
       "16    2654\n",
       "17    2499\n",
       "18    2172\n",
       "19    2010\n",
       "20    1835\n",
       "21    1733\n",
       "22    1613\n",
       "23    1484\n",
       "24    1338\n",
       "25    1351\n",
       "26    1217\n",
       "27    1136\n",
       "28    1012\n",
       "29     992\n",
       "30     987\n",
       "31     945\n",
       "32     896\n",
       "33     859\n",
       "34     884\n",
       "35     811\n",
       "36     791\n",
       "37     793\n",
       "38     719\n",
       "39     685\n",
       "40     692\n",
       "41     606\n",
       "42     489\n",
       "43    4858\n",
       "Name: PayDelayCount, dtype: int64"
      ]
     },
     "execution_count": 11,
     "metadata": {},
     "output_type": "execute_result"
    }
   ],
   "source": [
    "train_X['PayDelayCount'].value_counts(dropna=False).sort_index()"
   ]
  },
  {
   "cell_type": "code",
   "execution_count": 12,
   "metadata": {},
   "outputs": [
    {
     "data": {
      "text/plain": [
       "1      763\n",
       "2     3059\n",
       "3     5646\n",
       "4     6238\n",
       "5     6406\n",
       "6     6271\n",
       "7     5835\n",
       "8     5225\n",
       "9     5032\n",
       "10    4561\n",
       "11    4174\n",
       "12    3769\n",
       "13    3379\n",
       "14    3192\n",
       "15    2884\n",
       "16    2654\n",
       "17    2499\n",
       "18    2172\n",
       "19    2010\n",
       "20    1835\n",
       "21    1733\n",
       "22    1613\n",
       "23    1484\n",
       "24    1338\n",
       "25    1351\n",
       "26    1217\n",
       "27    1136\n",
       "28    1012\n",
       "29     992\n",
       "30     987\n",
       "31     945\n",
       "32     896\n",
       "33     859\n",
       "34     884\n",
       "35     811\n",
       "36     791\n",
       "37     793\n",
       "38     719\n",
       "39     685\n",
       "40     692\n",
       "41     606\n",
       "42     489\n",
       "43    4858\n",
       "Name: LengthOfStay.daysCount, dtype: int64"
      ]
     },
     "execution_count": 12,
     "metadata": {},
     "output_type": "execute_result"
    }
   ],
   "source": [
    "train_X['LengthOfStay.daysCount'].value_counts(dropna=False).sort_index()"
   ]
  },
  {
   "cell_type": "code",
   "execution_count": 13,
   "metadata": {},
   "outputs": [
    {
     "data": {
      "text/plain": [
       "0    96698\n",
       "1     7797\n",
       "Name: ClaimsTruncated, dtype: int64"
      ]
     },
     "execution_count": 13,
     "metadata": {},
     "output_type": "execute_result"
    }
   ],
   "source": [
    "train_X['ClaimsTruncated'].value_counts(dropna=False).sort_index()"
   ]
  },
  {
   "cell_type": "markdown",
   "metadata": {},
   "source": [
    "## Create training set\n",
    "\n",
    "The provided trianing set is called train_X with labels called train_X_labels corresponding to the DaysinHospital variable. "
   ]
  },
  {
   "cell_type": "code",
   "execution_count": 14,
   "metadata": {},
   "outputs": [],
   "source": [
    "df_target_Y2 = load_health_data(DATA_DIR, 'DaysInHospital_Y2.csv')\n",
    "df_target_Y3 = load_health_data(DATA_DIR, 'DaysInHospital_Y3.csv')\n",
    "df_target_Y4 = load_health_data(DATA_DIR, 'Target.csv')"
   ]
  },
  {
   "cell_type": "code",
   "execution_count": 15,
   "metadata": {},
   "outputs": [
    {
     "data": {
      "text/plain": [
       "0    72067\n",
       "1     3971\n",
       "Name: ClaimsTruncated, dtype: int64"
      ]
     },
     "execution_count": 15,
     "metadata": {},
     "output_type": "execute_result"
    }
   ],
   "source": [
    "df_target_Y2['ClaimsTruncated'].value_counts(dropna=False)"
   ]
  },
  {
   "cell_type": "code",
   "execution_count": 16,
   "metadata": {},
   "outputs": [
    {
     "data": {
      "text/plain": [
       "0     64269\n",
       "1      4835\n",
       "2      2366\n",
       "3      1453\n",
       "4       977\n",
       "5       565\n",
       "6       373\n",
       "15      261\n",
       "7       256\n",
       "8       173\n",
       "9       148\n",
       "10      106\n",
       "11       80\n",
       "12       73\n",
       "13       61\n",
       "14       42\n",
       "Name: DaysInHospital, dtype: int64"
      ]
     },
     "execution_count": 16,
     "metadata": {},
     "output_type": "execute_result"
    }
   ],
   "source": [
    "df_target_Y2['DaysInHospital'].value_counts(dropna=False)"
   ]
  },
  {
   "cell_type": "markdown",
   "metadata": {},
   "source": [
    "The labels will be set up as the log of the DaysInHospital variable"
   ]
  },
  {
   "cell_type": "code",
   "execution_count": 17,
   "metadata": {},
   "outputs": [],
   "source": [
    "df_target_Y2['label'] = np.log(df_target_Y2['DaysInHospital'] + 1)\n",
    "df_target_Y2['Year'] = 'Y1'\n",
    "\n",
    "df_target_Y3['label'] = np.log(df_target_Y3['DaysInHospital'] + 1)\n",
    "df_target_Y3['Year'] = 'Y2'\n",
    "\n",
    "df_target_Y4['label'] = np.log(df_target_Y4['DaysInHospital'] + 1)\n",
    "df_target_Y4['Year'] = 'Y3'"
   ]
  },
  {
   "cell_type": "code",
   "execution_count": 18,
   "metadata": {},
   "outputs": [
    {
     "data": {
      "text/html": [
       "<div>\n",
       "<style scoped>\n",
       "    .dataframe tbody tr th:only-of-type {\n",
       "        vertical-align: middle;\n",
       "    }\n",
       "\n",
       "    .dataframe tbody tr th {\n",
       "        vertical-align: top;\n",
       "    }\n",
       "\n",
       "    .dataframe thead th {\n",
       "        text-align: right;\n",
       "    }\n",
       "</style>\n",
       "<table border=\"1\" class=\"dataframe\">\n",
       "  <thead>\n",
       "    <tr style=\"text-align: right;\">\n",
       "      <th></th>\n",
       "      <th>MemberID</th>\n",
       "      <th>ClaimsTruncated</th>\n",
       "      <th>DaysInHospital</th>\n",
       "      <th>label</th>\n",
       "      <th>Year</th>\n",
       "    </tr>\n",
       "  </thead>\n",
       "  <tbody>\n",
       "    <tr>\n",
       "      <th>0</th>\n",
       "      <td>24027423</td>\n",
       "      <td>0</td>\n",
       "      <td>0</td>\n",
       "      <td>0.000000</td>\n",
       "      <td>Y1</td>\n",
       "    </tr>\n",
       "    <tr>\n",
       "      <th>1</th>\n",
       "      <td>98324177</td>\n",
       "      <td>0</td>\n",
       "      <td>0</td>\n",
       "      <td>0.000000</td>\n",
       "      <td>Y1</td>\n",
       "    </tr>\n",
       "    <tr>\n",
       "      <th>2</th>\n",
       "      <td>33899367</td>\n",
       "      <td>1</td>\n",
       "      <td>1</td>\n",
       "      <td>0.693147</td>\n",
       "      <td>Y1</td>\n",
       "    </tr>\n",
       "    <tr>\n",
       "      <th>3</th>\n",
       "      <td>5481382</td>\n",
       "      <td>0</td>\n",
       "      <td>1</td>\n",
       "      <td>0.693147</td>\n",
       "      <td>Y1</td>\n",
       "    </tr>\n",
       "    <tr>\n",
       "      <th>4</th>\n",
       "      <td>69908334</td>\n",
       "      <td>0</td>\n",
       "      <td>0</td>\n",
       "      <td>0.000000</td>\n",
       "      <td>Y1</td>\n",
       "    </tr>\n",
       "  </tbody>\n",
       "</table>\n",
       "</div>"
      ],
      "text/plain": [
       "   MemberID  ClaimsTruncated  DaysInHospital     label Year\n",
       "0  24027423                0               0  0.000000   Y1\n",
       "1  98324177                0               0  0.000000   Y1\n",
       "2  33899367                1               1  0.693147   Y1\n",
       "3   5481382                0               1  0.693147   Y1\n",
       "4  69908334                0               0  0.000000   Y1"
      ]
     },
     "execution_count": 18,
     "metadata": {},
     "output_type": "execute_result"
    }
   ],
   "source": [
    "df_target_Y2.head()"
   ]
  },
  {
   "cell_type": "markdown",
   "metadata": {},
   "source": [
    "### Claims Data"
   ]
  },
  {
   "cell_type": "code",
   "execution_count": 19,
   "metadata": {},
   "outputs": [],
   "source": [
    "df_claims = load_health_data(DATA_DIR, 'Claims.csv')"
   ]
  },
  {
   "cell_type": "code",
   "execution_count": 20,
   "metadata": {},
   "outputs": [
    {
     "data": {
      "text/plain": [
       "0       141451\n",
       "162+     92592\n",
       "28       87286\n",
       "23       85165\n",
       "29       83899\n",
       "22       83380\n",
       "24       82660\n",
       "30       78784\n",
       "21       78751\n",
       "31       73889\n",
       "35       70537\n",
       "27       63693\n",
       "36       60368\n",
       "17       57018\n",
       "16       56983\n",
       "34       54340\n",
       "37       54026\n",
       "20       53773\n",
       "38       48513\n",
       "15       48435\n",
       "42       43513\n",
       "43       40619\n",
       "44       36581\n",
       "25       34889\n",
       "45       32900\n",
       "32       31582\n",
       "41       30906\n",
       "49       29986\n",
       "50       29832\n",
       "14       26861\n",
       "         ...  \n",
       "147       1405\n",
       "155       1381\n",
       "161       1381\n",
       "123       1357\n",
       "149       1338\n",
       "132       1335\n",
       "154       1306\n",
       "157       1283\n",
       "6         1271\n",
       "150       1241\n",
       "156       1218\n",
       "139       1191\n",
       "130       1154\n",
       "110       1092\n",
       "137       1008\n",
       "146        929\n",
       "153        925\n",
       "160        917\n",
       "117        913\n",
       "144        844\n",
       "158        812\n",
       "151        808\n",
       "124        725\n",
       "131        594\n",
       "138        593\n",
       "159        508\n",
       "145        481\n",
       "152        457\n",
       "2          269\n",
       "1           94\n",
       "Name: PayDelay, Length: 163, dtype: int64"
      ]
     },
     "execution_count": 20,
     "metadata": {},
     "output_type": "execute_result"
    }
   ],
   "source": [
    "df_claims['PayDelay'].value_counts(dropna=False)"
   ]
  },
  {
   "cell_type": "code",
   "execution_count": 21,
   "metadata": {},
   "outputs": [
    {
     "data": {
      "text/plain": [
       "0- 1 month      707721\n",
       "1- 2 months     247343\n",
       "2- 3 months     225216\n",
       "3- 4 months     212214\n",
       "5- 6 months     192000\n",
       "4- 5 months     189001\n",
       "6- 7 months     180662\n",
       "7- 8 months     175191\n",
       "8- 9 months     171878\n",
       "9-10 months     151527\n",
       "10-11 months    116328\n",
       "NaN              52770\n",
       "11-12 months     47139\n",
       "Name: DSFS, dtype: int64"
      ]
     },
     "execution_count": 21,
     "metadata": {},
     "output_type": "execute_result"
    }
   ],
   "source": [
    "df_claims['DSFS'].value_counts(dropna=False)"
   ]
  },
  {
   "cell_type": "markdown",
   "metadata": {},
   "source": [
    "The DSFS column is non-numeric and has some NaN values. This column will be added to the categorical pipeline and we will find the best way to handle the NaN values. "
   ]
  },
  {
   "cell_type": "code",
   "execution_count": 22,
   "metadata": {},
   "outputs": [
    {
     "data": {
      "text/plain": [
       "0      1356995\n",
       "1-2    1256527\n",
       "3-4      49479\n",
       "5+        5989\n",
       "Name: CharlsonIndex, dtype: int64"
      ]
     },
     "execution_count": 22,
     "metadata": {},
     "output_type": "execute_result"
    }
   ],
   "source": [
    "df_claims['CharlsonIndex'].value_counts(dropna=False)"
   ]
  },
  {
   "cell_type": "markdown",
   "metadata": {},
   "source": [
    "The 5+ category will have to be handled as a non-numeric character, the easiest solution might be to change it to 5."
   ]
  },
  {
   "cell_type": "code",
   "execution_count": 23,
   "metadata": {},
   "outputs": [
    {
     "data": {
      "text/plain": [
       "NaN           2597392\n",
       "1 day           56696\n",
       "2 days           6485\n",
       "3 days           3246\n",
       "4 days           1473\n",
       "1- 2 weeks       1143\n",
       "2- 4 weeks        961\n",
       "4- 8 weeks        903\n",
       "5 days            510\n",
       "6 days            179\n",
       "26+ weeks           2\n",
       "Name: LengthOfStay, dtype: int64"
      ]
     },
     "execution_count": 23,
     "metadata": {},
     "output_type": "execute_result"
    }
   ],
   "source": [
    "df_claims['LengthOfStay'].value_counts(dropna=False)"
   ]
  },
  {
   "cell_type": "markdown",
   "metadata": {},
   "source": [
    "THe LengthOfStay variable is another that will be treated as categorical.\n",
    "\n",
    "We're going to create a dictionary for our non-numeric variables and apply the dictionary to our dataset so that everything ends up numeric."
   ]
  },
  {
   "cell_type": "code",
   "execution_count": 24,
   "metadata": {},
   "outputs": [],
   "source": [
    "charlson_idx_dt = {'0': 0, '1-2': 2, '3-4': 4, '5+': 6}\n",
    "los_dt = {'1 day': 1, '2 days': 2, '3 days': 3, '4 days': 4, '5 days': 5, '6 days': 6,\n",
    "          '1- 2 weeks': 11, '2- 4 weeks': 21, '4- 8 weeks': 42, '26+ weeks': 180}"
   ]
  },
  {
   "cell_type": "markdown",
   "metadata": {},
   "source": [
    "The ClaimAttributeAdder class is  going to do the necessary processing of our non-numeric variables.\n",
    "PayDelay variables equal to '162+' will be changed to 163\n",
    "DSFSI variables will be increased by 1 except the NaN values\n",
    "CharlsonIndex variables will be converted to numeric values using the charlcon_idx_dt dictionary\n",
    "LengthOfStay variables will be converted to numeric values using the los_dt dictionary above"
   ]
  },
  {
   "cell_type": "code",
   "execution_count": 25,
   "metadata": {},
   "outputs": [],
   "source": [
    "# preprocess via pipeline\n",
    "class ClaimAttributesAdder(BaseEstimator, TransformerMixin):\n",
    "    def fit(self, X, y=None):\n",
    "        return self\n",
    "    def transform(self, X, y=None):           \n",
    "        X['PayDelayI'] = X['PayDelay'].apply(lambda x: int(x) if x != '162+' else 163)\n",
    "        X['DSFSI'] = X['DSFS'].apply(lambda x: None if pd.isnull(x) else int(x[0]) + 1)\n",
    "        X['CharlsonIndexI'] = X['CharlsonIndex'].apply(lambda x: charlson_idx_dt[x])\n",
    "        X['LengthOfStayI'] = X['LengthOfStay'].apply(lambda x: None if pd.isnull(x) else los_dt[x])\n",
    "        return X"
   ]
  },
  {
   "cell_type": "code",
   "execution_count": 26,
   "metadata": {},
   "outputs": [],
   "source": [
    "caa = ClaimAttributesAdder()\n",
    "df_claims = caa.transform(df_claims)"
   ]
  },
  {
   "cell_type": "markdown",
   "metadata": {},
   "source": [
    "Now lets see how the variables changed:"
   ]
  },
  {
   "cell_type": "code",
   "execution_count": 27,
   "metadata": {
    "scrolled": true
   },
   "outputs": [
    {
     "data": {
      "text/plain": [
       "0      141451\n",
       "163     92592\n",
       "28      87286\n",
       "23      85165\n",
       "29      83899\n",
       "22      83380\n",
       "24      82660\n",
       "30      78784\n",
       "21      78751\n",
       "31      73889\n",
       "35      70537\n",
       "27      63693\n",
       "36      60368\n",
       "17      57018\n",
       "16      56983\n",
       "34      54340\n",
       "37      54026\n",
       "20      53773\n",
       "38      48513\n",
       "15      48435\n",
       "42      43513\n",
       "43      40619\n",
       "44      36581\n",
       "25      34889\n",
       "45      32900\n",
       "32      31582\n",
       "41      30906\n",
       "49      29986\n",
       "50      29832\n",
       "14      26861\n",
       "        ...  \n",
       "147      1405\n",
       "155      1381\n",
       "161      1381\n",
       "123      1357\n",
       "149      1338\n",
       "132      1335\n",
       "154      1306\n",
       "157      1283\n",
       "6        1271\n",
       "150      1241\n",
       "156      1218\n",
       "139      1191\n",
       "130      1154\n",
       "110      1092\n",
       "137      1008\n",
       "146       929\n",
       "153       925\n",
       "160       917\n",
       "117       913\n",
       "144       844\n",
       "158       812\n",
       "151       808\n",
       "124       725\n",
       "131       594\n",
       "138       593\n",
       "159       508\n",
       "145       481\n",
       "152       457\n",
       "2         269\n",
       "1          94\n",
       "Name: PayDelayI, Length: 163, dtype: int64"
      ]
     },
     "execution_count": 27,
     "metadata": {},
     "output_type": "execute_result"
    }
   ],
   "source": [
    "df_claims['PayDelayI'].value_counts(dropna=False)"
   ]
  },
  {
   "cell_type": "markdown",
   "metadata": {},
   "source": [
    "162+ has been changed to 163!"
   ]
  },
  {
   "cell_type": "code",
   "execution_count": 28,
   "metadata": {},
   "outputs": [
    {
     "data": {
      "text/plain": [
       " 1.0     707721\n",
       " 2.0     410810\n",
       " 3.0     225216\n",
       " 4.0     212214\n",
       " 6.0     192000\n",
       " 5.0     189001\n",
       " 7.0     180662\n",
       " 8.0     175191\n",
       " 9.0     171878\n",
       " 10.0    151527\n",
       "NaN       52770\n",
       "Name: DSFSI, dtype: int64"
      ]
     },
     "execution_count": 28,
     "metadata": {},
     "output_type": "execute_result"
    }
   ],
   "source": [
    "df_claims['DSFSI'].value_counts(dropna=False)"
   ]
  },
  {
   "cell_type": "markdown",
   "metadata": {},
   "source": [
    "This seems a little off, 2 should only be 247343, but out preprocessing seems to have added 1- 2 months with 10-11 months AND 11-12 months. Lets go back and look at this again once we check the other variables. Also note that we still have out NaN values."
   ]
  },
  {
   "cell_type": "code",
   "execution_count": 29,
   "metadata": {},
   "outputs": [
    {
     "data": {
      "text/plain": [
       "0    1356995\n",
       "2    1256527\n",
       "4      49479\n",
       "6       5989\n",
       "Name: CharlsonIndexI, dtype: int64"
      ]
     },
     "execution_count": 29,
     "metadata": {},
     "output_type": "execute_result"
    }
   ],
   "source": [
    "df_claims['CharlsonIndexI'].value_counts(dropna=False)"
   ]
  },
  {
   "cell_type": "markdown",
   "metadata": {},
   "source": [
    "The CharlsonIndex seems to have mapped perfectly and now our non-numeric variables are numeric."
   ]
  },
  {
   "cell_type": "code",
   "execution_count": 30,
   "metadata": {},
   "outputs": [
    {
     "data": {
      "text/plain": [
       "NaN       2597392\n",
       " 1.0        56696\n",
       " 2.0         6485\n",
       " 3.0         3246\n",
       " 4.0         1473\n",
       " 11.0        1143\n",
       " 21.0         961\n",
       " 42.0         903\n",
       " 5.0          510\n",
       " 6.0          179\n",
       " 180.0          2\n",
       "Name: LengthOfStayI, dtype: int64"
      ]
     },
     "execution_count": 30,
     "metadata": {},
     "output_type": "execute_result"
    }
   ],
   "source": [
    "df_claims['LengthOfStayI'].value_counts(dropna=False)"
   ]
  },
  {
   "cell_type": "markdown",
   "metadata": {},
   "source": [
    "All the reference to days and weeks have been removed from the LengthOfStay variables, but we still have that NaN to deal with.\n",
    "\n",
    "Lets go back and to correct the DSFS."
   ]
  },
  {
   "cell_type": "code",
   "execution_count": 31,
   "metadata": {},
   "outputs": [],
   "source": [
    "df_claims['DSFSI'] = df_claims['DSFS'].apply(lambda x: None if pd.isnull(x) else 10 if int(x[3:5]=='0 ') else int(x[3:5]))"
   ]
  },
  {
   "cell_type": "code",
   "execution_count": 32,
   "metadata": {},
   "outputs": [
    {
     "data": {
      "text/plain": [
       " 1.0     707721\n",
       " 2.0     247343\n",
       " 3.0     225216\n",
       " 4.0     212214\n",
       " 6.0     192000\n",
       " 5.0     189001\n",
       " 7.0     180662\n",
       " 8.0     175191\n",
       " 9.0     171878\n",
       " 10.0    151527\n",
       " 11.0    116328\n",
       "NaN       52770\n",
       " 12.0     47139\n",
       "Name: DSFSI, dtype: int64"
      ]
     },
     "execution_count": 32,
     "metadata": {},
     "output_type": "execute_result"
    }
   ],
   "source": [
    "df_claims['DSFSI'].value_counts(dropna=False)"
   ]
  },
  {
   "cell_type": "markdown",
   "metadata": {},
   "source": [
    "That looks better, lets update our preprocessing."
   ]
  },
  {
   "cell_type": "code",
   "execution_count": 33,
   "metadata": {},
   "outputs": [],
   "source": [
    "# preprocess via pipeline\n",
    "class ClaimAttributesAdder(BaseEstimator, TransformerMixin):\n",
    "    def fit(self, X, y=None):\n",
    "        return self\n",
    "    def transform(self, X, y=None):           \n",
    "        X['PayDelayI'] = X['PayDelay'].apply(lambda x: int(x) if x != '162+' else 163)\n",
    "        X['DSFSI'] = X['DSFS'].apply(lambda x: None if pd.isnull(x) else 10 if int(x[3:5]=='0 ') else int(x[3:5]))\n",
    "        X['CharlsonIndexI'] = X['CharlsonIndex'].apply(lambda x: charlson_idx_dt[x])\n",
    "        X['LengthOfStayI'] = X['LengthOfStay'].apply(lambda x: None if pd.isnull(x) else los_dt[x])\n",
    "        return X"
   ]
  },
  {
   "cell_type": "code",
   "execution_count": 34,
   "metadata": {},
   "outputs": [],
   "source": [
    "caa = ClaimAttributesAdder()\n",
    "df_claims = caa.transform(df_claims)"
   ]
  },
  {
   "cell_type": "code",
   "execution_count": 35,
   "metadata": {},
   "outputs": [
    {
     "data": {
      "text/html": [
       "<div>\n",
       "<style scoped>\n",
       "    .dataframe tbody tr th:only-of-type {\n",
       "        vertical-align: middle;\n",
       "    }\n",
       "\n",
       "    .dataframe tbody tr th {\n",
       "        vertical-align: top;\n",
       "    }\n",
       "\n",
       "    .dataframe thead th {\n",
       "        text-align: right;\n",
       "    }\n",
       "</style>\n",
       "<table border=\"1\" class=\"dataframe\">\n",
       "  <thead>\n",
       "    <tr style=\"text-align: right;\">\n",
       "      <th></th>\n",
       "      <th>MemberID</th>\n",
       "      <th>ProviderID</th>\n",
       "      <th>Vendor</th>\n",
       "      <th>PCP</th>\n",
       "      <th>Year</th>\n",
       "      <th>Specialty</th>\n",
       "      <th>PlaceSvc</th>\n",
       "      <th>PayDelay</th>\n",
       "      <th>LengthOfStay</th>\n",
       "      <th>DSFS</th>\n",
       "      <th>PrimaryConditionGroup</th>\n",
       "      <th>CharlsonIndex</th>\n",
       "      <th>ProcedureGroup</th>\n",
       "      <th>SupLOS</th>\n",
       "      <th>PayDelayI</th>\n",
       "      <th>DSFSI</th>\n",
       "      <th>CharlsonIndexI</th>\n",
       "      <th>LengthOfStayI</th>\n",
       "    </tr>\n",
       "  </thead>\n",
       "  <tbody>\n",
       "    <tr>\n",
       "      <th>0</th>\n",
       "      <td>42286978</td>\n",
       "      <td>8013252.0</td>\n",
       "      <td>172193.0</td>\n",
       "      <td>37796.0</td>\n",
       "      <td>Y1</td>\n",
       "      <td>Surgery</td>\n",
       "      <td>Office</td>\n",
       "      <td>28</td>\n",
       "      <td>NaN</td>\n",
       "      <td>8- 9 months</td>\n",
       "      <td>NEUMENT</td>\n",
       "      <td>0</td>\n",
       "      <td>MED</td>\n",
       "      <td>0</td>\n",
       "      <td>28</td>\n",
       "      <td>9.0</td>\n",
       "      <td>0</td>\n",
       "      <td>NaN</td>\n",
       "    </tr>\n",
       "    <tr>\n",
       "      <th>1</th>\n",
       "      <td>97903248</td>\n",
       "      <td>3316066.0</td>\n",
       "      <td>726296.0</td>\n",
       "      <td>5300.0</td>\n",
       "      <td>Y3</td>\n",
       "      <td>Internal</td>\n",
       "      <td>Office</td>\n",
       "      <td>50</td>\n",
       "      <td>NaN</td>\n",
       "      <td>7- 8 months</td>\n",
       "      <td>NEUMENT</td>\n",
       "      <td>1-2</td>\n",
       "      <td>EM</td>\n",
       "      <td>0</td>\n",
       "      <td>50</td>\n",
       "      <td>8.0</td>\n",
       "      <td>2</td>\n",
       "      <td>NaN</td>\n",
       "    </tr>\n",
       "    <tr>\n",
       "      <th>2</th>\n",
       "      <td>2759427</td>\n",
       "      <td>2997752.0</td>\n",
       "      <td>140343.0</td>\n",
       "      <td>91972.0</td>\n",
       "      <td>Y3</td>\n",
       "      <td>Internal</td>\n",
       "      <td>Office</td>\n",
       "      <td>14</td>\n",
       "      <td>NaN</td>\n",
       "      <td>0- 1 month</td>\n",
       "      <td>METAB3</td>\n",
       "      <td>0</td>\n",
       "      <td>EM</td>\n",
       "      <td>0</td>\n",
       "      <td>14</td>\n",
       "      <td>1.0</td>\n",
       "      <td>0</td>\n",
       "      <td>NaN</td>\n",
       "    </tr>\n",
       "    <tr>\n",
       "      <th>3</th>\n",
       "      <td>73570559</td>\n",
       "      <td>7053364.0</td>\n",
       "      <td>240043.0</td>\n",
       "      <td>70119.0</td>\n",
       "      <td>Y3</td>\n",
       "      <td>Laboratory</td>\n",
       "      <td>Independent Lab</td>\n",
       "      <td>24</td>\n",
       "      <td>NaN</td>\n",
       "      <td>5- 6 months</td>\n",
       "      <td>METAB3</td>\n",
       "      <td>1-2</td>\n",
       "      <td>SCS</td>\n",
       "      <td>0</td>\n",
       "      <td>24</td>\n",
       "      <td>6.0</td>\n",
       "      <td>2</td>\n",
       "      <td>NaN</td>\n",
       "    </tr>\n",
       "    <tr>\n",
       "      <th>4</th>\n",
       "      <td>11837054</td>\n",
       "      <td>7557061.0</td>\n",
       "      <td>496247.0</td>\n",
       "      <td>68968.0</td>\n",
       "      <td>Y2</td>\n",
       "      <td>Surgery</td>\n",
       "      <td>Outpatient Hospital</td>\n",
       "      <td>27</td>\n",
       "      <td>NaN</td>\n",
       "      <td>4- 5 months</td>\n",
       "      <td>FXDISLC</td>\n",
       "      <td>1-2</td>\n",
       "      <td>EM</td>\n",
       "      <td>0</td>\n",
       "      <td>27</td>\n",
       "      <td>5.0</td>\n",
       "      <td>2</td>\n",
       "      <td>NaN</td>\n",
       "    </tr>\n",
       "  </tbody>\n",
       "</table>\n",
       "</div>"
      ],
      "text/plain": [
       "   MemberID  ProviderID    Vendor      PCP Year   Specialty  \\\n",
       "0  42286978   8013252.0  172193.0  37796.0   Y1     Surgery   \n",
       "1  97903248   3316066.0  726296.0   5300.0   Y3    Internal   \n",
       "2   2759427   2997752.0  140343.0  91972.0   Y3    Internal   \n",
       "3  73570559   7053364.0  240043.0  70119.0   Y3  Laboratory   \n",
       "4  11837054   7557061.0  496247.0  68968.0   Y2     Surgery   \n",
       "\n",
       "              PlaceSvc PayDelay LengthOfStay         DSFS  \\\n",
       "0               Office       28          NaN  8- 9 months   \n",
       "1               Office       50          NaN  7- 8 months   \n",
       "2               Office       14          NaN   0- 1 month   \n",
       "3      Independent Lab       24          NaN  5- 6 months   \n",
       "4  Outpatient Hospital       27          NaN  4- 5 months   \n",
       "\n",
       "  PrimaryConditionGroup CharlsonIndex ProcedureGroup  SupLOS  PayDelayI  \\\n",
       "0               NEUMENT             0            MED       0         28   \n",
       "1               NEUMENT           1-2             EM       0         50   \n",
       "2                METAB3             0             EM       0         14   \n",
       "3                METAB3           1-2            SCS       0         24   \n",
       "4               FXDISLC           1-2             EM       0         27   \n",
       "\n",
       "   DSFSI  CharlsonIndexI  LengthOfStayI  \n",
       "0    9.0               0            NaN  \n",
       "1    8.0               2            NaN  \n",
       "2    1.0               0            NaN  \n",
       "3    6.0               2            NaN  \n",
       "4    5.0               2            NaN  "
      ]
     },
     "execution_count": 35,
     "metadata": {},
     "output_type": "execute_result"
    }
   ],
   "source": [
    "df_claims.head()"
   ]
  },
  {
   "cell_type": "code",
   "execution_count": 36,
   "metadata": {},
   "outputs": [],
   "source": [
    "agg_op_dt_claim = {\n",
    "    'PayDelayI': {\n",
    "        'max_PayDelay': 'max',\n",
    "        'min_PayDelay': 'min',\n",
    "        'avg_PayDelay': 'mean'\n",
    "    },\n",
    "    'LengthOfStayI': {\n",
    "        'max_LOS': 'max',\n",
    "        'min_LOS': 'min',\n",
    "        'avg_LOS': 'mean'\n",
    "    },\n",
    "    'DSFSI': {\n",
    "        'max_dsfs': 'max',\n",
    "        'min_dsfs': 'min',\n",
    "        'avg_dsfs': 'mean'\n",
    "    },\n",
    "    'CharlsonIndexI': {\n",
    "        'max_CharlsonIndexI': 'max',\n",
    "        'min_CharlsonIndexI': 'min',\n",
    "        'avg_CharlsonIndexI': 'mean'\n",
    "    }\n",
    "}"
   ]
  },
  {
   "cell_type": "code",
   "execution_count": 37,
   "metadata": {},
   "outputs": [],
   "source": [
    "# Aggregate via pipeline\n",
    "class ClaimAggregater(BaseEstimator, TransformerMixin):\n",
    "    def fit(self, X, y=None):\n",
    "        return self\n",
    "    def transform(self, X, y=None):           \n",
    "        result = X.groupby(['Year', 'MemberID']).agg(agg_op_dt_claim)\n",
    "        result.columns = result.columns.droplevel()\n",
    "        result = result.reset_index(level=['Year', 'MemberID'])\n",
    "        result['range_dsfs'] = result['max_dsfs'] - result['min_dsfs']\n",
    "        result['range_CharlsonIndexI'] = result['max_CharlsonIndexI'] - result['min_CharlsonIndexI']\n",
    "        return result"
   ]
  },
  {
   "cell_type": "code",
   "execution_count": 38,
   "metadata": {},
   "outputs": [
    {
     "name": "stderr",
     "output_type": "stream",
     "text": [
      "c:\\users\\tiffany.fabianac\\appdata\\local\\programs\\python\\python36\\lib\\site-packages\\pandas\\core\\groupby.py:4291: FutureWarning: using a dict with renaming is deprecated and will be removed in a future version\n",
      "  return super(DataFrameGroupBy, self).aggregate(arg, *args, **kwargs)\n"
     ]
    }
   ],
   "source": [
    "claim_pipeline = Pipeline([\n",
    "    ('claim_adder', ClaimAttributesAdder()),\n",
    "    ('claim_aggregater', ClaimAggregater())\n",
    "    ])\n",
    "df_claims_aggregated = claim_pipeline.transform(df_claims)"
   ]
  },
  {
   "cell_type": "code",
   "execution_count": 39,
   "metadata": {},
   "outputs": [
    {
     "data": {
      "text/html": [
       "<div>\n",
       "<style scoped>\n",
       "    .dataframe tbody tr th:only-of-type {\n",
       "        vertical-align: middle;\n",
       "    }\n",
       "\n",
       "    .dataframe tbody tr th {\n",
       "        vertical-align: top;\n",
       "    }\n",
       "\n",
       "    .dataframe thead th {\n",
       "        text-align: right;\n",
       "    }\n",
       "</style>\n",
       "<table border=\"1\" class=\"dataframe\">\n",
       "  <thead>\n",
       "    <tr style=\"text-align: right;\">\n",
       "      <th></th>\n",
       "      <th>Year</th>\n",
       "      <th>MemberID</th>\n",
       "      <th>max_PayDelay</th>\n",
       "      <th>min_PayDelay</th>\n",
       "      <th>avg_PayDelay</th>\n",
       "      <th>max_LOS</th>\n",
       "      <th>min_LOS</th>\n",
       "      <th>avg_LOS</th>\n",
       "      <th>max_dsfs</th>\n",
       "      <th>min_dsfs</th>\n",
       "      <th>avg_dsfs</th>\n",
       "      <th>max_CharlsonIndexI</th>\n",
       "      <th>min_CharlsonIndexI</th>\n",
       "      <th>avg_CharlsonIndexI</th>\n",
       "      <th>range_dsfs</th>\n",
       "      <th>range_CharlsonIndexI</th>\n",
       "    </tr>\n",
       "  </thead>\n",
       "  <tbody>\n",
       "    <tr>\n",
       "      <th>0</th>\n",
       "      <td>Y1</td>\n",
       "      <td>210</td>\n",
       "      <td>163</td>\n",
       "      <td>22</td>\n",
       "      <td>90.250000</td>\n",
       "      <td>2.0</td>\n",
       "      <td>2.0</td>\n",
       "      <td>2.0</td>\n",
       "      <td>10.0</td>\n",
       "      <td>1.0</td>\n",
       "      <td>3.500000</td>\n",
       "      <td>0</td>\n",
       "      <td>0</td>\n",
       "      <td>0.000000</td>\n",
       "      <td>9.0</td>\n",
       "      <td>0</td>\n",
       "    </tr>\n",
       "    <tr>\n",
       "      <th>1</th>\n",
       "      <td>Y1</td>\n",
       "      <td>3197</td>\n",
       "      <td>163</td>\n",
       "      <td>36</td>\n",
       "      <td>98.800000</td>\n",
       "      <td>NaN</td>\n",
       "      <td>NaN</td>\n",
       "      <td>NaN</td>\n",
       "      <td>12.0</td>\n",
       "      <td>1.0</td>\n",
       "      <td>6.600000</td>\n",
       "      <td>0</td>\n",
       "      <td>0</td>\n",
       "      <td>0.000000</td>\n",
       "      <td>11.0</td>\n",
       "      <td>0</td>\n",
       "    </tr>\n",
       "    <tr>\n",
       "      <th>2</th>\n",
       "      <td>Y1</td>\n",
       "      <td>3889</td>\n",
       "      <td>163</td>\n",
       "      <td>33</td>\n",
       "      <td>70.769231</td>\n",
       "      <td>2.0</td>\n",
       "      <td>1.0</td>\n",
       "      <td>1.5</td>\n",
       "      <td>2.0</td>\n",
       "      <td>1.0</td>\n",
       "      <td>1.076923</td>\n",
       "      <td>2</td>\n",
       "      <td>0</td>\n",
       "      <td>0.615385</td>\n",
       "      <td>1.0</td>\n",
       "      <td>2</td>\n",
       "    </tr>\n",
       "    <tr>\n",
       "      <th>3</th>\n",
       "      <td>Y1</td>\n",
       "      <td>4187</td>\n",
       "      <td>163</td>\n",
       "      <td>29</td>\n",
       "      <td>85.250000</td>\n",
       "      <td>NaN</td>\n",
       "      <td>NaN</td>\n",
       "      <td>NaN</td>\n",
       "      <td>9.0</td>\n",
       "      <td>1.0</td>\n",
       "      <td>3.750000</td>\n",
       "      <td>0</td>\n",
       "      <td>0</td>\n",
       "      <td>0.000000</td>\n",
       "      <td>8.0</td>\n",
       "      <td>0</td>\n",
       "    </tr>\n",
       "    <tr>\n",
       "      <th>4</th>\n",
       "      <td>Y1</td>\n",
       "      <td>9063</td>\n",
       "      <td>68</td>\n",
       "      <td>39</td>\n",
       "      <td>60.250000</td>\n",
       "      <td>NaN</td>\n",
       "      <td>NaN</td>\n",
       "      <td>NaN</td>\n",
       "      <td>2.0</td>\n",
       "      <td>1.0</td>\n",
       "      <td>1.250000</td>\n",
       "      <td>0</td>\n",
       "      <td>0</td>\n",
       "      <td>0.000000</td>\n",
       "      <td>1.0</td>\n",
       "      <td>0</td>\n",
       "    </tr>\n",
       "  </tbody>\n",
       "</table>\n",
       "</div>"
      ],
      "text/plain": [
       "  Year  MemberID  max_PayDelay  min_PayDelay  avg_PayDelay  max_LOS  min_LOS  \\\n",
       "0   Y1       210           163            22     90.250000      2.0      2.0   \n",
       "1   Y1      3197           163            36     98.800000      NaN      NaN   \n",
       "2   Y1      3889           163            33     70.769231      2.0      1.0   \n",
       "3   Y1      4187           163            29     85.250000      NaN      NaN   \n",
       "4   Y1      9063            68            39     60.250000      NaN      NaN   \n",
       "\n",
       "   avg_LOS  max_dsfs  min_dsfs  avg_dsfs  max_CharlsonIndexI  \\\n",
       "0      2.0      10.0       1.0  3.500000                   0   \n",
       "1      NaN      12.0       1.0  6.600000                   0   \n",
       "2      1.5       2.0       1.0  1.076923                   2   \n",
       "3      NaN       9.0       1.0  3.750000                   0   \n",
       "4      NaN       2.0       1.0  1.250000                   0   \n",
       "\n",
       "   min_CharlsonIndexI  avg_CharlsonIndexI  range_dsfs  range_CharlsonIndexI  \n",
       "0                   0            0.000000         9.0                     0  \n",
       "1                   0            0.000000        11.0                     0  \n",
       "2                   0            0.615385         1.0                     2  \n",
       "3                   0            0.000000         8.0                     0  \n",
       "4                   0            0.000000         1.0                     0  "
      ]
     },
     "execution_count": 39,
     "metadata": {},
     "output_type": "execute_result"
    }
   ],
   "source": [
    "df_claims_aggregated.head()"
   ]
  },
  {
   "cell_type": "markdown",
   "metadata": {},
   "source": [
    "## Drug Data"
   ]
  },
  {
   "cell_type": "code",
   "execution_count": 40,
   "metadata": {},
   "outputs": [],
   "source": [
    "df_drug_count = load_health_data(DATA_DIR, 'DrugCount.csv')"
   ]
  },
  {
   "cell_type": "markdown",
   "metadata": {},
   "source": [
    "The DrugCount csv contains MemberID, Year, DSFS, and DrugCount variables. THe only variable we need from this sheet in DrugCount."
   ]
  },
  {
   "cell_type": "code",
   "execution_count": 41,
   "metadata": {},
   "outputs": [
    {
     "data": {
      "text/plain": [
       "1     263501\n",
       "2     188559\n",
       "3     129881\n",
       "4      87783\n",
       "5      57768\n",
       "7+     54018\n",
       "6      36731\n",
       "Name: DrugCount, dtype: int64"
      ]
     },
     "execution_count": 41,
     "metadata": {},
     "output_type": "execute_result"
    }
   ],
   "source": [
    "df_drug_count['DrugCount'].value_counts(dropna=False)"
   ]
  },
  {
   "cell_type": "markdown",
   "metadata": {},
   "source": [
    "We just have to get rid of that 7+ variable... Lets change it to 7."
   ]
  },
  {
   "cell_type": "code",
   "execution_count": 42,
   "metadata": {},
   "outputs": [],
   "source": [
    "# preprocess via pipeline\n",
    "class DrugAttributesAdder(BaseEstimator, TransformerMixin):\n",
    "    def fit(self, X, y=None):\n",
    "        return self\n",
    "    def transform(self, X, y=None):           \n",
    "        X['DrugCountI'] = X['DrugCount'].apply(lambda x: 7 if x == '7+' else int(x))\n",
    "        return X"
   ]
  },
  {
   "cell_type": "code",
   "execution_count": 43,
   "metadata": {},
   "outputs": [],
   "source": [
    "daa = DrugAttributesAdder()\n",
    "df_drug_count = daa.transform(df_drug_count)"
   ]
  },
  {
   "cell_type": "code",
   "execution_count": 44,
   "metadata": {},
   "outputs": [
    {
     "data": {
      "text/html": [
       "<div>\n",
       "<style scoped>\n",
       "    .dataframe tbody tr th:only-of-type {\n",
       "        vertical-align: middle;\n",
       "    }\n",
       "\n",
       "    .dataframe tbody tr th {\n",
       "        vertical-align: top;\n",
       "    }\n",
       "\n",
       "    .dataframe thead th {\n",
       "        text-align: right;\n",
       "    }\n",
       "</style>\n",
       "<table border=\"1\" class=\"dataframe\">\n",
       "  <thead>\n",
       "    <tr style=\"text-align: right;\">\n",
       "      <th></th>\n",
       "      <th>MemberID</th>\n",
       "      <th>Year</th>\n",
       "      <th>DSFS</th>\n",
       "      <th>DrugCount</th>\n",
       "      <th>DrugCountI</th>\n",
       "    </tr>\n",
       "  </thead>\n",
       "  <tbody>\n",
       "    <tr>\n",
       "      <th>0</th>\n",
       "      <td>48925661</td>\n",
       "      <td>Y2</td>\n",
       "      <td>9-10 months</td>\n",
       "      <td>7+</td>\n",
       "      <td>7</td>\n",
       "    </tr>\n",
       "    <tr>\n",
       "      <th>1</th>\n",
       "      <td>90764620</td>\n",
       "      <td>Y3</td>\n",
       "      <td>8- 9 months</td>\n",
       "      <td>3</td>\n",
       "      <td>3</td>\n",
       "    </tr>\n",
       "    <tr>\n",
       "      <th>2</th>\n",
       "      <td>61221204</td>\n",
       "      <td>Y1</td>\n",
       "      <td>2- 3 months</td>\n",
       "      <td>1</td>\n",
       "      <td>1</td>\n",
       "    </tr>\n",
       "    <tr>\n",
       "      <th>3</th>\n",
       "      <td>63628544</td>\n",
       "      <td>Y3</td>\n",
       "      <td>1- 2 months</td>\n",
       "      <td>1</td>\n",
       "      <td>1</td>\n",
       "    </tr>\n",
       "    <tr>\n",
       "      <th>4</th>\n",
       "      <td>46949606</td>\n",
       "      <td>Y2</td>\n",
       "      <td>10-11 months</td>\n",
       "      <td>3</td>\n",
       "      <td>3</td>\n",
       "    </tr>\n",
       "  </tbody>\n",
       "</table>\n",
       "</div>"
      ],
      "text/plain": [
       "   MemberID Year          DSFS DrugCount  DrugCountI\n",
       "0  48925661   Y2   9-10 months        7+           7\n",
       "1  90764620   Y3   8- 9 months         3           3\n",
       "2  61221204   Y1   2- 3 months         1           1\n",
       "3  63628544   Y3   1- 2 months         1           1\n",
       "4  46949606   Y2  10-11 months         3           3"
      ]
     },
     "execution_count": 44,
     "metadata": {},
     "output_type": "execute_result"
    }
   ],
   "source": [
    "df_drug_count.head()"
   ]
  },
  {
   "cell_type": "markdown",
   "metadata": {},
   "source": [
    "This is a great headshot where we can see that the 7+ has been changed to 7."
   ]
  },
  {
   "cell_type": "code",
   "execution_count": 45,
   "metadata": {},
   "outputs": [],
   "source": [
    "agg_op_dt_drug = {\n",
    "    'DrugCountI': {\n",
    "        'max_DrugCount': 'max',\n",
    "        'min_DrugCount': 'min',\n",
    "        'avg_DrugCount': 'mean',\n",
    "        'months_DrugCount': 'count'\n",
    "    }\n",
    "}"
   ]
  },
  {
   "cell_type": "code",
   "execution_count": 46,
   "metadata": {},
   "outputs": [],
   "source": [
    "# Aggregate via pipeline\n",
    "class DrugAggregater(BaseEstimator, TransformerMixin):\n",
    "    def fit(self, X, y=None):\n",
    "        return self\n",
    "    def transform(self, X, y=None):           \n",
    "        result = X.groupby(['Year', 'MemberID']).agg(agg_op_dt_drug)\n",
    "        result.columns = result.columns.droplevel()\n",
    "        result = result.reset_index(level=['Year', 'MemberID'])\n",
    "        return result"
   ]
  },
  {
   "cell_type": "code",
   "execution_count": 47,
   "metadata": {},
   "outputs": [
    {
     "name": "stderr",
     "output_type": "stream",
     "text": [
      "c:\\users\\tiffany.fabianac\\appdata\\local\\programs\\python\\python36\\lib\\site-packages\\pandas\\core\\groupby.py:4291: FutureWarning: using a dict with renaming is deprecated and will be removed in a future version\n",
      "  return super(DataFrameGroupBy, self).aggregate(arg, *args, **kwargs)\n"
     ]
    }
   ],
   "source": [
    "drug_pipeline = Pipeline([\n",
    "    ('drug_adder', DrugAttributesAdder()),\n",
    "    ('drug_aggregater', DrugAggregater())\n",
    "    ])\n",
    "df_drug_count_aggregated = drug_pipeline.transform(df_drug_count)"
   ]
  },
  {
   "cell_type": "code",
   "execution_count": 48,
   "metadata": {},
   "outputs": [
    {
     "data": {
      "text/html": [
       "<div>\n",
       "<style scoped>\n",
       "    .dataframe tbody tr th:only-of-type {\n",
       "        vertical-align: middle;\n",
       "    }\n",
       "\n",
       "    .dataframe tbody tr th {\n",
       "        vertical-align: top;\n",
       "    }\n",
       "\n",
       "    .dataframe thead th {\n",
       "        text-align: right;\n",
       "    }\n",
       "</style>\n",
       "<table border=\"1\" class=\"dataframe\">\n",
       "  <thead>\n",
       "    <tr style=\"text-align: right;\">\n",
       "      <th></th>\n",
       "      <th>Year</th>\n",
       "      <th>MemberID</th>\n",
       "      <th>max_DrugCount</th>\n",
       "      <th>min_DrugCount</th>\n",
       "      <th>avg_DrugCount</th>\n",
       "      <th>months_DrugCount</th>\n",
       "    </tr>\n",
       "  </thead>\n",
       "  <tbody>\n",
       "    <tr>\n",
       "      <th>0</th>\n",
       "      <td>Y1</td>\n",
       "      <td>210</td>\n",
       "      <td>2</td>\n",
       "      <td>1</td>\n",
       "      <td>1.666667</td>\n",
       "      <td>3</td>\n",
       "    </tr>\n",
       "    <tr>\n",
       "      <th>1</th>\n",
       "      <td>Y1</td>\n",
       "      <td>3197</td>\n",
       "      <td>2</td>\n",
       "      <td>1</td>\n",
       "      <td>1.250000</td>\n",
       "      <td>4</td>\n",
       "    </tr>\n",
       "    <tr>\n",
       "      <th>2</th>\n",
       "      <td>Y1</td>\n",
       "      <td>3889</td>\n",
       "      <td>5</td>\n",
       "      <td>2</td>\n",
       "      <td>3.000000</td>\n",
       "      <td>10</td>\n",
       "    </tr>\n",
       "    <tr>\n",
       "      <th>3</th>\n",
       "      <td>Y1</td>\n",
       "      <td>4187</td>\n",
       "      <td>7</td>\n",
       "      <td>3</td>\n",
       "      <td>6.100000</td>\n",
       "      <td>10</td>\n",
       "    </tr>\n",
       "    <tr>\n",
       "      <th>4</th>\n",
       "      <td>Y1</td>\n",
       "      <td>9063</td>\n",
       "      <td>1</td>\n",
       "      <td>1</td>\n",
       "      <td>1.000000</td>\n",
       "      <td>2</td>\n",
       "    </tr>\n",
       "  </tbody>\n",
       "</table>\n",
       "</div>"
      ],
      "text/plain": [
       "  Year  MemberID  max_DrugCount  min_DrugCount  avg_DrugCount  \\\n",
       "0   Y1       210              2              1       1.666667   \n",
       "1   Y1      3197              2              1       1.250000   \n",
       "2   Y1      3889              5              2       3.000000   \n",
       "3   Y1      4187              7              3       6.100000   \n",
       "4   Y1      9063              1              1       1.000000   \n",
       "\n",
       "   months_DrugCount  \n",
       "0                 3  \n",
       "1                 4  \n",
       "2                10  \n",
       "3                10  \n",
       "4                 2  "
      ]
     },
     "execution_count": 48,
     "metadata": {},
     "output_type": "execute_result"
    }
   ],
   "source": [
    "df_drug_count_aggregated.head()"
   ]
  },
  {
   "cell_type": "markdown",
   "metadata": {},
   "source": [
    "### Lab Data"
   ]
  },
  {
   "cell_type": "code",
   "execution_count": 49,
   "metadata": {},
   "outputs": [],
   "source": [
    "df_lab_count = load_health_data(DATA_DIR, 'LabCount.csv')"
   ]
  },
  {
   "cell_type": "markdown",
   "metadata": {},
   "source": [
    "The LabCount csv contains MemberID, Year, DSFS, and LabCount variables. Similar to the DrugCount CSV, the only variable we need from this sheet is LabCount."
   ]
  },
  {
   "cell_type": "code",
   "execution_count": 50,
   "metadata": {},
   "outputs": [
    {
     "data": {
      "text/plain": [
       "1      93744\n",
       "2      54183\n",
       "3      43472\n",
       "4      38815\n",
       "5      34900\n",
       "6      27705\n",
       "10+    23110\n",
       "7      20591\n",
       "8      14885\n",
       "9      10079\n",
       "Name: LabCount, dtype: int64"
      ]
     },
     "execution_count": 50,
     "metadata": {},
     "output_type": "execute_result"
    }
   ],
   "source": [
    "df_lab_count['LabCount'].value_counts(dropna=False)"
   ]
  },
  {
   "cell_type": "markdown",
   "metadata": {},
   "source": [
    "The 10+ variable will need to be changed, lets change it to 10."
   ]
  },
  {
   "cell_type": "code",
   "execution_count": 51,
   "metadata": {},
   "outputs": [],
   "source": [
    "# preprocess via pipeline\n",
    "class LabAttributesAdder(BaseEstimator, TransformerMixin):\n",
    "    def fit(self, X, y=None):\n",
    "        return self\n",
    "    def transform(self, X, y=None):           \n",
    "        X['LabCountI'] = X['LabCount'].apply(lambda x: 10 if x == '10+' else int(x))\n",
    "        return X"
   ]
  },
  {
   "cell_type": "code",
   "execution_count": 52,
   "metadata": {},
   "outputs": [],
   "source": [
    "laa = LabAttributesAdder()\n",
    "df_lab_count = laa.transform(df_lab_count)"
   ]
  },
  {
   "cell_type": "code",
   "execution_count": 53,
   "metadata": {},
   "outputs": [
    {
     "data": {
      "text/html": [
       "<div>\n",
       "<style scoped>\n",
       "    .dataframe tbody tr th:only-of-type {\n",
       "        vertical-align: middle;\n",
       "    }\n",
       "\n",
       "    .dataframe tbody tr th {\n",
       "        vertical-align: top;\n",
       "    }\n",
       "\n",
       "    .dataframe thead th {\n",
       "        text-align: right;\n",
       "    }\n",
       "</style>\n",
       "<table border=\"1\" class=\"dataframe\">\n",
       "  <thead>\n",
       "    <tr style=\"text-align: right;\">\n",
       "      <th></th>\n",
       "      <th>MemberID</th>\n",
       "      <th>Year</th>\n",
       "      <th>DSFS</th>\n",
       "      <th>LabCount</th>\n",
       "      <th>LabCountI</th>\n",
       "    </tr>\n",
       "  </thead>\n",
       "  <tbody>\n",
       "    <tr>\n",
       "      <th>0</th>\n",
       "      <td>69258001</td>\n",
       "      <td>Y3</td>\n",
       "      <td>2- 3 months</td>\n",
       "      <td>1</td>\n",
       "      <td>1</td>\n",
       "    </tr>\n",
       "    <tr>\n",
       "      <th>1</th>\n",
       "      <td>10143167</td>\n",
       "      <td>Y1</td>\n",
       "      <td>0- 1 month</td>\n",
       "      <td>2</td>\n",
       "      <td>2</td>\n",
       "    </tr>\n",
       "    <tr>\n",
       "      <th>2</th>\n",
       "      <td>1054357</td>\n",
       "      <td>Y1</td>\n",
       "      <td>0- 1 month</td>\n",
       "      <td>6</td>\n",
       "      <td>6</td>\n",
       "    </tr>\n",
       "    <tr>\n",
       "      <th>3</th>\n",
       "      <td>56583841</td>\n",
       "      <td>Y3</td>\n",
       "      <td>6- 7 months</td>\n",
       "      <td>4</td>\n",
       "      <td>4</td>\n",
       "    </tr>\n",
       "    <tr>\n",
       "      <th>4</th>\n",
       "      <td>70967047</td>\n",
       "      <td>Y2</td>\n",
       "      <td>0- 1 month</td>\n",
       "      <td>2</td>\n",
       "      <td>2</td>\n",
       "    </tr>\n",
       "  </tbody>\n",
       "</table>\n",
       "</div>"
      ],
      "text/plain": [
       "   MemberID Year         DSFS LabCount  LabCountI\n",
       "0  69258001   Y3  2- 3 months        1          1\n",
       "1  10143167   Y1   0- 1 month        2          2\n",
       "2   1054357   Y1   0- 1 month        6          6\n",
       "3  56583841   Y3  6- 7 months        4          4\n",
       "4  70967047   Y2   0- 1 month        2          2"
      ]
     },
     "execution_count": 53,
     "metadata": {},
     "output_type": "execute_result"
    }
   ],
   "source": [
    "df_lab_count.head()"
   ]
  },
  {
   "cell_type": "code",
   "execution_count": 54,
   "metadata": {},
   "outputs": [],
   "source": [
    "agg_op_dt_lab = {\n",
    "    'LabCountI': {\n",
    "        'max_LabCount': 'max',\n",
    "        'min_LabCount': 'min',\n",
    "        'avg_LabCount': 'mean',\n",
    "        'months_LabCount': 'count'\n",
    "    }\n",
    "}"
   ]
  },
  {
   "cell_type": "code",
   "execution_count": 55,
   "metadata": {},
   "outputs": [],
   "source": [
    "# Aggregate via pipeline\n",
    "class LabAggregater(BaseEstimator, TransformerMixin):\n",
    "    def fit(self, X, y=None):\n",
    "        return self\n",
    "    def transform(self, X, y=None):           \n",
    "        result = X.groupby(['Year', 'MemberID']).agg(agg_op_dt_lab)\n",
    "        result.columns = result.columns.droplevel()\n",
    "        result = result.reset_index(level=['Year', 'MemberID'])\n",
    "        return result"
   ]
  },
  {
   "cell_type": "code",
   "execution_count": 56,
   "metadata": {},
   "outputs": [
    {
     "name": "stderr",
     "output_type": "stream",
     "text": [
      "c:\\users\\tiffany.fabianac\\appdata\\local\\programs\\python\\python36\\lib\\site-packages\\pandas\\core\\groupby.py:4291: FutureWarning: using a dict with renaming is deprecated and will be removed in a future version\n",
      "  return super(DataFrameGroupBy, self).aggregate(arg, *args, **kwargs)\n"
     ]
    }
   ],
   "source": [
    "lab_pipeline = Pipeline([\n",
    "    ('lab_adder', LabAttributesAdder()),\n",
    "    ('lab_aggregater', LabAggregater())\n",
    "    ])\n",
    "df_lab_count_aggregated = lab_pipeline.transform(df_lab_count)"
   ]
  },
  {
   "cell_type": "code",
   "execution_count": 57,
   "metadata": {},
   "outputs": [
    {
     "data": {
      "text/html": [
       "<div>\n",
       "<style scoped>\n",
       "    .dataframe tbody tr th:only-of-type {\n",
       "        vertical-align: middle;\n",
       "    }\n",
       "\n",
       "    .dataframe tbody tr th {\n",
       "        vertical-align: top;\n",
       "    }\n",
       "\n",
       "    .dataframe thead th {\n",
       "        text-align: right;\n",
       "    }\n",
       "</style>\n",
       "<table border=\"1\" class=\"dataframe\">\n",
       "  <thead>\n",
       "    <tr style=\"text-align: right;\">\n",
       "      <th></th>\n",
       "      <th>Year</th>\n",
       "      <th>MemberID</th>\n",
       "      <th>max_LabCount</th>\n",
       "      <th>min_LabCount</th>\n",
       "      <th>avg_LabCount</th>\n",
       "      <th>months_LabCount</th>\n",
       "    </tr>\n",
       "  </thead>\n",
       "  <tbody>\n",
       "    <tr>\n",
       "      <th>0</th>\n",
       "      <td>Y1</td>\n",
       "      <td>210</td>\n",
       "      <td>2</td>\n",
       "      <td>2</td>\n",
       "      <td>2.0</td>\n",
       "      <td>1</td>\n",
       "    </tr>\n",
       "    <tr>\n",
       "      <th>1</th>\n",
       "      <td>Y1</td>\n",
       "      <td>3889</td>\n",
       "      <td>10</td>\n",
       "      <td>10</td>\n",
       "      <td>10.0</td>\n",
       "      <td>1</td>\n",
       "    </tr>\n",
       "    <tr>\n",
       "      <th>2</th>\n",
       "      <td>Y1</td>\n",
       "      <td>11951</td>\n",
       "      <td>3</td>\n",
       "      <td>3</td>\n",
       "      <td>3.0</td>\n",
       "      <td>1</td>\n",
       "    </tr>\n",
       "    <tr>\n",
       "      <th>3</th>\n",
       "      <td>Y1</td>\n",
       "      <td>14661</td>\n",
       "      <td>2</td>\n",
       "      <td>2</td>\n",
       "      <td>2.0</td>\n",
       "      <td>1</td>\n",
       "    </tr>\n",
       "    <tr>\n",
       "      <th>4</th>\n",
       "      <td>Y1</td>\n",
       "      <td>14778</td>\n",
       "      <td>2</td>\n",
       "      <td>2</td>\n",
       "      <td>2.0</td>\n",
       "      <td>1</td>\n",
       "    </tr>\n",
       "  </tbody>\n",
       "</table>\n",
       "</div>"
      ],
      "text/plain": [
       "  Year  MemberID  max_LabCount  min_LabCount  avg_LabCount  months_LabCount\n",
       "0   Y1       210             2             2           2.0                1\n",
       "1   Y1      3889            10            10          10.0                1\n",
       "2   Y1     11951             3             3           3.0                1\n",
       "3   Y1     14661             2             2           2.0                1\n",
       "4   Y1     14778             2             2           2.0                1"
      ]
     },
     "execution_count": 57,
     "metadata": {},
     "output_type": "execute_result"
    }
   ],
   "source": [
    "df_lab_count_aggregated.head()"
   ]
  },
  {
   "cell_type": "markdown",
   "metadata": {},
   "source": [
    "### Member Data"
   ]
  },
  {
   "cell_type": "code",
   "execution_count": 58,
   "metadata": {},
   "outputs": [],
   "source": [
    "df_members = load_health_data(DATA_DIR, 'Members.csv')"
   ]
  },
  {
   "cell_type": "markdown",
   "metadata": {},
   "source": [
    "The Member csv contains the MemberID, AgeAtFirstClaim, and Sex."
   ]
  },
  {
   "cell_type": "code",
   "execution_count": 59,
   "metadata": {},
   "outputs": [
    {
     "data": {
      "text/plain": [
       "40-49    16111\n",
       "70-79    14514\n",
       "50-59    13329\n",
       "60-69    12622\n",
       "30-39    12435\n",
       "10-19    11319\n",
       "0-9      10791\n",
       "20-29     8505\n",
       "80+       7621\n",
       "NaN       5753\n",
       "Name: AgeAtFirstClaim, dtype: int64"
      ]
     },
     "execution_count": 59,
     "metadata": {},
     "output_type": "execute_result"
    }
   ],
   "source": [
    "df_members['AgeAtFirstClaim'].value_counts(dropna=False)"
   ]
  },
  {
   "cell_type": "markdown",
   "metadata": {},
   "source": [
    "We're going to make a dictionary for the age range so that we can turn it into a numerical value."
   ]
  },
  {
   "cell_type": "code",
   "execution_count": 60,
   "metadata": {},
   "outputs": [],
   "source": [
    "age_dt = {'40-49': 45, '70-79': 75, '50-59': 55, '60-69': 65, '30-39': 35,\n",
    "          '10-19': 15, '0-9': 5, '20-29': 25, '80+': 85}"
   ]
  },
  {
   "cell_type": "code",
   "execution_count": 61,
   "metadata": {},
   "outputs": [],
   "source": [
    "class MemberAttributesAdder(BaseEstimator, TransformerMixin):\n",
    "    def fit(self, X, y=None):\n",
    "        return self\n",
    "    def transform(self, X, y=None):           \n",
    "        X['AgeI'] = X['AgeAtFirstClaim'].apply(lambda x: None if pd.isnull(x) else age_dt[x])\n",
    "        return X"
   ]
  },
  {
   "cell_type": "code",
   "execution_count": 62,
   "metadata": {},
   "outputs": [],
   "source": [
    "maa = MemberAttributesAdder()\n",
    "df_members = maa.transform(df_members)"
   ]
  },
  {
   "cell_type": "code",
   "execution_count": 63,
   "metadata": {},
   "outputs": [
    {
     "data": {
      "text/html": [
       "<div>\n",
       "<style scoped>\n",
       "    .dataframe tbody tr th:only-of-type {\n",
       "        vertical-align: middle;\n",
       "    }\n",
       "\n",
       "    .dataframe tbody tr th {\n",
       "        vertical-align: top;\n",
       "    }\n",
       "\n",
       "    .dataframe thead th {\n",
       "        text-align: right;\n",
       "    }\n",
       "</style>\n",
       "<table border=\"1\" class=\"dataframe\">\n",
       "  <thead>\n",
       "    <tr style=\"text-align: right;\">\n",
       "      <th></th>\n",
       "      <th>MemberID</th>\n",
       "      <th>AgeAtFirstClaim</th>\n",
       "      <th>Sex</th>\n",
       "      <th>AgeI</th>\n",
       "    </tr>\n",
       "  </thead>\n",
       "  <tbody>\n",
       "    <tr>\n",
       "      <th>0</th>\n",
       "      <td>14723353</td>\n",
       "      <td>70-79</td>\n",
       "      <td>M</td>\n",
       "      <td>75.0</td>\n",
       "    </tr>\n",
       "    <tr>\n",
       "      <th>1</th>\n",
       "      <td>75706636</td>\n",
       "      <td>70-79</td>\n",
       "      <td>M</td>\n",
       "      <td>75.0</td>\n",
       "    </tr>\n",
       "    <tr>\n",
       "      <th>2</th>\n",
       "      <td>17320609</td>\n",
       "      <td>70-79</td>\n",
       "      <td>M</td>\n",
       "      <td>75.0</td>\n",
       "    </tr>\n",
       "    <tr>\n",
       "      <th>3</th>\n",
       "      <td>69690888</td>\n",
       "      <td>40-49</td>\n",
       "      <td>M</td>\n",
       "      <td>45.0</td>\n",
       "    </tr>\n",
       "    <tr>\n",
       "      <th>4</th>\n",
       "      <td>33004608</td>\n",
       "      <td>0-9</td>\n",
       "      <td>M</td>\n",
       "      <td>5.0</td>\n",
       "    </tr>\n",
       "  </tbody>\n",
       "</table>\n",
       "</div>"
      ],
      "text/plain": [
       "   MemberID AgeAtFirstClaim Sex  AgeI\n",
       "0  14723353           70-79   M  75.0\n",
       "1  75706636           70-79   M  75.0\n",
       "2  17320609           70-79   M  75.0\n",
       "3  69690888           40-49   M  45.0\n",
       "4  33004608             0-9   M   5.0"
      ]
     },
     "execution_count": 63,
     "metadata": {},
     "output_type": "execute_result"
    }
   ],
   "source": [
    "df_members.head()"
   ]
  },
  {
   "cell_type": "markdown",
   "metadata": {},
   "source": [
    "### Time for the Merge\n",
    "\n",
    "Now we'll merge all our data together by MemberID"
   ]
  },
  {
   "cell_type": "code",
   "execution_count": 64,
   "metadata": {},
   "outputs": [
    {
     "name": "stdout",
     "output_type": "stream",
     "text": [
      "(147473, 5)\n",
      "(147473, 8)\n",
      "(147473, 22)\n",
      "(147473, 26)\n",
      "(147473, 30)\n"
     ]
    }
   ],
   "source": [
    "# 1. Union Target DataFrames Across Years\n",
    "df_merged = pd.concat([df_target_Y2, df_target_Y3])\n",
    "print(df_merged.shape)\n",
    "# 2. Join/Merge in Members Data\n",
    "df_merged = df_merged.merge(df_members, how='left', on='MemberID')\n",
    "print(df_merged.shape)\n",
    "# 3. Join/Merge in Aggregated Claims Data\n",
    "df_merged = df_merged.merge(df_claims_aggregated, how='left', on=['MemberID', 'Year'])\n",
    "print(df_merged.shape)\n",
    "# 4. Join/Merge in Aggregated Drug Data\n",
    "df_merged = df_merged.merge(df_drug_count_aggregated, how='left', on=['MemberID', 'Year'])\n",
    "print(df_merged.shape)\n",
    "# 5. Join/Merge in Aggregated Lab Data\n",
    "df_merged = df_merged.merge(df_lab_count_aggregated, how='left', on=['MemberID', 'Year'])\n",
    "print(df_merged.shape)"
   ]
  },
  {
   "cell_type": "code",
   "execution_count": 65,
   "metadata": {},
   "outputs": [
    {
     "data": {
      "text/plain": [
       "(147473, 26)"
      ]
     },
     "execution_count": 65,
     "metadata": {},
     "output_type": "execute_result"
    }
   ],
   "source": [
    "df_final = df_merged.drop(['MemberID', 'DaysInHospital', 'Year', 'AgeAtFirstClaim'], axis=1)\n",
    "df_final.shape"
   ]
  },
  {
   "cell_type": "code",
   "execution_count": 66,
   "metadata": {},
   "outputs": [
    {
     "data": {
      "text/html": [
       "<div>\n",
       "<style scoped>\n",
       "    .dataframe tbody tr th:only-of-type {\n",
       "        vertical-align: middle;\n",
       "    }\n",
       "\n",
       "    .dataframe tbody tr th {\n",
       "        vertical-align: top;\n",
       "    }\n",
       "\n",
       "    .dataframe thead th {\n",
       "        text-align: right;\n",
       "    }\n",
       "</style>\n",
       "<table border=\"1\" class=\"dataframe\">\n",
       "  <thead>\n",
       "    <tr style=\"text-align: right;\">\n",
       "      <th></th>\n",
       "      <th>ClaimsTruncated</th>\n",
       "      <th>label</th>\n",
       "      <th>Sex</th>\n",
       "      <th>AgeI</th>\n",
       "      <th>max_PayDelay</th>\n",
       "      <th>min_PayDelay</th>\n",
       "      <th>avg_PayDelay</th>\n",
       "      <th>max_LOS</th>\n",
       "      <th>min_LOS</th>\n",
       "      <th>avg_LOS</th>\n",
       "      <th>...</th>\n",
       "      <th>range_dsfs</th>\n",
       "      <th>range_CharlsonIndexI</th>\n",
       "      <th>max_DrugCount</th>\n",
       "      <th>min_DrugCount</th>\n",
       "      <th>avg_DrugCount</th>\n",
       "      <th>months_DrugCount</th>\n",
       "      <th>max_LabCount</th>\n",
       "      <th>min_LabCount</th>\n",
       "      <th>avg_LabCount</th>\n",
       "      <th>months_LabCount</th>\n",
       "    </tr>\n",
       "  </thead>\n",
       "  <tbody>\n",
       "    <tr>\n",
       "      <th>0</th>\n",
       "      <td>0</td>\n",
       "      <td>0.000000</td>\n",
       "      <td>M</td>\n",
       "      <td>35.0</td>\n",
       "      <td>35</td>\n",
       "      <td>27</td>\n",
       "      <td>30.400000</td>\n",
       "      <td>NaN</td>\n",
       "      <td>NaN</td>\n",
       "      <td>NaN</td>\n",
       "      <td>...</td>\n",
       "      <td>2.0</td>\n",
       "      <td>4</td>\n",
       "      <td>3.0</td>\n",
       "      <td>3.0</td>\n",
       "      <td>3.000000</td>\n",
       "      <td>1.0</td>\n",
       "      <td>7.0</td>\n",
       "      <td>7.0</td>\n",
       "      <td>7.000000</td>\n",
       "      <td>1.0</td>\n",
       "    </tr>\n",
       "    <tr>\n",
       "      <th>1</th>\n",
       "      <td>0</td>\n",
       "      <td>0.000000</td>\n",
       "      <td>M</td>\n",
       "      <td>35.0</td>\n",
       "      <td>146</td>\n",
       "      <td>23</td>\n",
       "      <td>70.666667</td>\n",
       "      <td>NaN</td>\n",
       "      <td>NaN</td>\n",
       "      <td>NaN</td>\n",
       "      <td>...</td>\n",
       "      <td>0.0</td>\n",
       "      <td>0</td>\n",
       "      <td>1.0</td>\n",
       "      <td>1.0</td>\n",
       "      <td>1.000000</td>\n",
       "      <td>1.0</td>\n",
       "      <td>7.0</td>\n",
       "      <td>7.0</td>\n",
       "      <td>7.000000</td>\n",
       "      <td>1.0</td>\n",
       "    </tr>\n",
       "    <tr>\n",
       "      <th>2</th>\n",
       "      <td>1</td>\n",
       "      <td>0.693147</td>\n",
       "      <td>F</td>\n",
       "      <td>85.0</td>\n",
       "      <td>163</td>\n",
       "      <td>13</td>\n",
       "      <td>45.024390</td>\n",
       "      <td>NaN</td>\n",
       "      <td>NaN</td>\n",
       "      <td>NaN</td>\n",
       "      <td>...</td>\n",
       "      <td>10.0</td>\n",
       "      <td>0</td>\n",
       "      <td>6.0</td>\n",
       "      <td>1.0</td>\n",
       "      <td>2.300000</td>\n",
       "      <td>10.0</td>\n",
       "      <td>1.0</td>\n",
       "      <td>1.0</td>\n",
       "      <td>1.000000</td>\n",
       "      <td>1.0</td>\n",
       "    </tr>\n",
       "    <tr>\n",
       "      <th>3</th>\n",
       "      <td>0</td>\n",
       "      <td>0.693147</td>\n",
       "      <td>F</td>\n",
       "      <td>25.0</td>\n",
       "      <td>163</td>\n",
       "      <td>28</td>\n",
       "      <td>68.166667</td>\n",
       "      <td>NaN</td>\n",
       "      <td>NaN</td>\n",
       "      <td>NaN</td>\n",
       "      <td>...</td>\n",
       "      <td>9.0</td>\n",
       "      <td>0</td>\n",
       "      <td>2.0</td>\n",
       "      <td>1.0</td>\n",
       "      <td>1.111111</td>\n",
       "      <td>9.0</td>\n",
       "      <td>2.0</td>\n",
       "      <td>1.0</td>\n",
       "      <td>1.666667</td>\n",
       "      <td>3.0</td>\n",
       "    </tr>\n",
       "    <tr>\n",
       "      <th>4</th>\n",
       "      <td>0</td>\n",
       "      <td>0.000000</td>\n",
       "      <td>F</td>\n",
       "      <td>65.0</td>\n",
       "      <td>77</td>\n",
       "      <td>22</td>\n",
       "      <td>48.117647</td>\n",
       "      <td>NaN</td>\n",
       "      <td>NaN</td>\n",
       "      <td>NaN</td>\n",
       "      <td>...</td>\n",
       "      <td>9.0</td>\n",
       "      <td>0</td>\n",
       "      <td>4.0</td>\n",
       "      <td>1.0</td>\n",
       "      <td>1.777778</td>\n",
       "      <td>9.0</td>\n",
       "      <td>8.0</td>\n",
       "      <td>8.0</td>\n",
       "      <td>8.000000</td>\n",
       "      <td>1.0</td>\n",
       "    </tr>\n",
       "  </tbody>\n",
       "</table>\n",
       "<p>5 rows × 26 columns</p>\n",
       "</div>"
      ],
      "text/plain": [
       "   ClaimsTruncated     label Sex  AgeI  max_PayDelay  min_PayDelay  \\\n",
       "0                0  0.000000   M  35.0            35            27   \n",
       "1                0  0.000000   M  35.0           146            23   \n",
       "2                1  0.693147   F  85.0           163            13   \n",
       "3                0  0.693147   F  25.0           163            28   \n",
       "4                0  0.000000   F  65.0            77            22   \n",
       "\n",
       "   avg_PayDelay  max_LOS  min_LOS  avg_LOS       ...         range_dsfs  \\\n",
       "0     30.400000      NaN      NaN      NaN       ...                2.0   \n",
       "1     70.666667      NaN      NaN      NaN       ...                0.0   \n",
       "2     45.024390      NaN      NaN      NaN       ...               10.0   \n",
       "3     68.166667      NaN      NaN      NaN       ...                9.0   \n",
       "4     48.117647      NaN      NaN      NaN       ...                9.0   \n",
       "\n",
       "   range_CharlsonIndexI  max_DrugCount  min_DrugCount  avg_DrugCount  \\\n",
       "0                     4            3.0            3.0       3.000000   \n",
       "1                     0            1.0            1.0       1.000000   \n",
       "2                     0            6.0            1.0       2.300000   \n",
       "3                     0            2.0            1.0       1.111111   \n",
       "4                     0            4.0            1.0       1.777778   \n",
       "\n",
       "   months_DrugCount  max_LabCount  min_LabCount  avg_LabCount  months_LabCount  \n",
       "0               1.0           7.0           7.0      7.000000              1.0  \n",
       "1               1.0           7.0           7.0      7.000000              1.0  \n",
       "2              10.0           1.0           1.0      1.000000              1.0  \n",
       "3               9.0           2.0           1.0      1.666667              3.0  \n",
       "4               9.0           8.0           8.0      8.000000              1.0  \n",
       "\n",
       "[5 rows x 26 columns]"
      ]
     },
     "execution_count": 66,
     "metadata": {},
     "output_type": "execute_result"
    }
   ],
   "source": [
    "df_final.head()"
   ]
  },
  {
   "cell_type": "markdown",
   "metadata": {},
   "source": [
    "### EDA"
   ]
  },
  {
   "cell_type": "markdown",
   "metadata": {},
   "source": [
    "A correlation matrix will show if any linear correlation exist between the label and the other variables. Even if a linear correlation exists, it does not mean that the relationship is meaning full.\n",
    "\n",
    "Lets first check out the provided training dataset:"
   ]
  },
  {
   "cell_type": "code",
   "execution_count": 67,
   "metadata": {},
   "outputs": [
    {
     "data": {
      "text/plain": [
       "DaysInHospital                         1.000000\n",
       "PayDelayCount                          0.188604\n",
       "LengthOfStay.daysCount                 0.188604\n",
       "ProcedureGroup_EM                      0.175871\n",
       "ClaimsTruncated                        0.169226\n",
       "PayDelaySum                            0.160035\n",
       "Specialty_Internal                     0.143302\n",
       "LabCountSum                            0.139105\n",
       "Specialty_Diagnostic Imaging           0.138110\n",
       "PlaceSvc_Office                        0.133845\n",
       "ProcedureGroup_RAD                     0.125355\n",
       "LabCountCount                          0.124395\n",
       "ProcedureGroup_PL                      0.123854\n",
       "PlaceSvc_Independent Lab               0.114570\n",
       "Specialty_Laboratory                   0.114378\n",
       "PlaceSvc_Inpatient Hospital            0.111679\n",
       "Specialty_Emergency                    0.110535\n",
       "ProcedureGroup_MED                     0.095289\n",
       "PlaceSvc_Urgent Care                   0.094912\n",
       "ProcedureGroup_SCS                     0.094130\n",
       "PayDelayMax                            0.091225\n",
       "PrimaryConditionGroup_ROAMI            0.085960\n",
       "LabCountMax                            0.081925\n",
       "LengthOfStay.daysMax                   0.075230\n",
       "PrimaryConditionGroup_GIBLEED          0.074413\n",
       "PrimaryConditionGroup_AMI              0.073129\n",
       "ProcedureGroup_SDS                     0.072424\n",
       "PrimaryConditionGroup_RENAL2           0.070503\n",
       "PrimaryConditionGroup_CHF              0.068401\n",
       "PrimaryConditionGroup_ARTHSPIN         0.068128\n",
       "                                         ...   \n",
       "Specialty_Rehabilitation               0.016818\n",
       "ProcedureGroup_SGS                     0.016489\n",
       "PrimaryConditionGroup_PERVALV          0.015560\n",
       "PrimaryConditionGroup_TRAUMA           0.015362\n",
       "Specialty_Obstetrics and Gynecology    0.015115\n",
       "PrimaryConditionGroup_METAB1           0.014830\n",
       "PrimaryConditionGroup_RENAL1           0.014385\n",
       "PrimaryConditionGroup_MISCL1           0.013024\n",
       "PrimaryConditionGroup_INFEC4           0.012814\n",
       "PrimaryConditionGroup_GYNECA           0.012560\n",
       "PrimaryConditionGroup_GYNEC1           0.012117\n",
       "PrimaryConditionGroup_APPCHOL          0.010941\n",
       "ProcedureGroup_SO                      0.010243\n",
       "PrimaryConditionGroup_LIVERDZ          0.009664\n",
       "PrimaryConditionGroup_CANCRA           0.007303\n",
       "PrimaryConditionGroup_PNCRDZ           0.006761\n",
       "PrimaryConditionGroup_SEPSIS           0.006759\n",
       "PlaceSvc_Ambulance                     0.005146\n",
       "ProcedureGroup_SAS                     0.004335\n",
       "PrimaryConditionGroup_CANCRM           0.003756\n",
       "PayDelayMean                           0.002807\n",
       "PrimaryConditionGroup_ODaBNCA          0.002767\n",
       "PrimaryConditionGroup_FXDISLC          0.002640\n",
       "ProcedureGroup_SMCD                    0.001680\n",
       "PrimaryConditionGroup_PERINTL         -0.001938\n",
       "MemberID                              -0.003775\n",
       "LabCountMin                           -0.023395\n",
       "Specialty_Pediatrics                  -0.024264\n",
       "PayDelayMin                           -0.060795\n",
       "LengthOfStay.daysMin                        NaN\n",
       "Name: DaysInHospital, Length: 104, dtype: float64"
      ]
     },
     "execution_count": 67,
     "metadata": {},
     "output_type": "execute_result"
    }
   ],
   "source": [
    "corr_matrix = train_X.corr()\n",
    "corr_matrix[\"DaysInHospital\"].sort_values(ascending=False)"
   ]
  },
  {
   "cell_type": "code",
   "execution_count": 68,
   "metadata": {},
   "outputs": [
    {
     "name": "stdout",
     "output_type": "stream",
     "text": [
      "[False False False False False False False False False False False False\n",
      " False False False False  True  True False  True False False False False\n",
      " False False False False False False False  True False False False False\n",
      " False  True False  True False False False False False False  True  True\n",
      "  True False False  True  True False  True  True  True False False False\n",
      "  True False False False False False False False False  True False  True\n",
      "  True False False False False False False False False False False False\n",
      " False False False False False False False False False False False False\n",
      " False False False False False False False False]\n",
      "[55 12 13 24 25 33 27 52 53 51 54  6 61 31 87 32  1  1 75  1 21 20 15 17\n",
      " 57 16 18 68 59 19 71  1 65 86 70 67 63  1 62  1  9 11  8 10  7 73  1  1\n",
      "  1  3  4  1  1  5  1  1  1  2 60 42  1 44 66 48 85 80 58 46 64  1 29  1\n",
      "  1 56 47 37 43 74 22 77 79 49 39 76 36 50 34 26 84 78 83 69 28 81 23 38\n",
      " 40 35 41 82 45 72 30 14]\n"
     ]
    }
   ],
   "source": [
    "logreg = LogisticRegression()\n",
    "rfe = RFE(logreg, 18)\n",
    "rfe = rfe.fit(train_X, train_X_labels)\n",
    "print(rfe.support_)\n",
    "print(rfe.ranking_)"
   ]
  },
  {
   "cell_type": "code",
   "execution_count": 69,
   "metadata": {},
   "outputs": [
    {
     "data": {
      "text/plain": [
       "['ClaimsTruncated',\n",
       " 'DaysInHospital',\n",
       " 'ProcedureGroup_ANES',\n",
       " 'ProcedureGroup_SMCD',\n",
       " 'PlaceSvc_Ambulance',\n",
       " 'PlaceSvc_Independent Lab',\n",
       " 'Specialty_Anesthesiology',\n",
       " 'Specialty_Diagnostic Imaging',\n",
       " 'Specialty_Emergency',\n",
       " 'Specialty_Laboratory',\n",
       " 'Specialty_Obstetrics and Gynecology',\n",
       " 'Specialty_Pathology',\n",
       " 'Specialty_Pediatrics',\n",
       " 'Specialty_Rehabilitation',\n",
       " 'PrimaryConditionGroup_APPCHOL',\n",
       " 'PrimaryConditionGroup_FXDISLC',\n",
       " 'PrimaryConditionGroup_GIOBSENT',\n",
       " 'PrimaryConditionGroup_GYNEC1']"
      ]
     },
     "execution_count": 69,
     "metadata": {},
     "output_type": "execute_result"
    }
   ],
   "source": [
    "#Variables marked as important:\n",
    "[\n",
    " 'ClaimsTruncated',\n",
    " 'DaysInHospital',\n",
    " 'ProcedureGroup_ANES',\n",
    " 'ProcedureGroup_SMCD',\n",
    " 'PlaceSvc_Ambulance',\n",
    " 'PlaceSvc_Independent Lab',\n",
    " 'Specialty_Anesthesiology',\n",
    " 'Specialty_Diagnostic Imaging',\n",
    " 'Specialty_Emergency',\n",
    " 'Specialty_Laboratory',\n",
    " 'Specialty_Obstetrics and Gynecology',\n",
    " 'Specialty_Pathology',\n",
    " 'Specialty_Pediatrics',\n",
    " 'Specialty_Rehabilitation',\n",
    " 'PrimaryConditionGroup_APPCHOL',\n",
    " 'PrimaryConditionGroup_FXDISLC',\n",
    " 'PrimaryConditionGroup_GIOBSENT',\n",
    "  'PrimaryConditionGroup_GYNEC1',\n",
    "]"
   ]
  },
  {
   "cell_type": "code",
   "execution_count": 70,
   "metadata": {},
   "outputs": [],
   "source": [
    "given_final = train_X.loc[:, train_X.columns.intersection([\n",
    " 'ClaimsTruncated',\n",
    " 'DaysInHospital',\n",
    " 'ProcedureGroup_ANES',\n",
    " 'ProcedureGroup_SMCD',\n",
    " 'PlaceSvc_Ambulance',\n",
    " 'PlaceSvc_Independent Lab',\n",
    " 'Specialty_Anesthesiology',\n",
    " 'Specialty_Diagnostic Imaging',\n",
    " 'Specialty_Emergency',\n",
    " 'Specialty_Laboratory',\n",
    " 'Specialty_Obstetrics and Gynecology',\n",
    " 'Specialty_Pathology',\n",
    " 'Specialty_Pediatrics',\n",
    " 'Specialty_Rehabilitation',\n",
    " 'PrimaryConditionGroup_APPCHOL',\n",
    " 'PrimaryConditionGroup_FXDISLC',\n",
    " 'PrimaryConditionGroup_GIOBSENT',\n",
    "  'PrimaryConditionGroup_GYNEC1',\n",
    "])] "
   ]
  },
  {
   "cell_type": "code",
   "execution_count": 71,
   "metadata": {},
   "outputs": [
    {
     "data": {
      "text/html": [
       "<div>\n",
       "<style scoped>\n",
       "    .dataframe tbody tr th:only-of-type {\n",
       "        vertical-align: middle;\n",
       "    }\n",
       "\n",
       "    .dataframe tbody tr th {\n",
       "        vertical-align: top;\n",
       "    }\n",
       "\n",
       "    .dataframe thead th {\n",
       "        text-align: right;\n",
       "    }\n",
       "</style>\n",
       "<table border=\"1\" class=\"dataframe\">\n",
       "  <thead>\n",
       "    <tr style=\"text-align: right;\">\n",
       "      <th></th>\n",
       "      <th>ClaimsTruncated</th>\n",
       "      <th>DaysInHospital</th>\n",
       "      <th>ProcedureGroup_ANES</th>\n",
       "      <th>ProcedureGroup_SMCD</th>\n",
       "      <th>PlaceSvc_Ambulance</th>\n",
       "      <th>PlaceSvc_Independent Lab</th>\n",
       "      <th>Specialty_Anesthesiology</th>\n",
       "      <th>Specialty_Diagnostic Imaging</th>\n",
       "      <th>Specialty_Emergency</th>\n",
       "      <th>Specialty_Laboratory</th>\n",
       "      <th>Specialty_Obstetrics and Gynecology</th>\n",
       "      <th>Specialty_Pathology</th>\n",
       "      <th>Specialty_Pediatrics</th>\n",
       "      <th>Specialty_Rehabilitation</th>\n",
       "      <th>PrimaryConditionGroup_APPCHOL</th>\n",
       "      <th>PrimaryConditionGroup_FXDISLC</th>\n",
       "      <th>PrimaryConditionGroup_GIOBSENT</th>\n",
       "      <th>PrimaryConditionGroup_GYNEC1</th>\n",
       "    </tr>\n",
       "  </thead>\n",
       "  <tbody>\n",
       "    <tr>\n",
       "      <th>0</th>\n",
       "      <td>0</td>\n",
       "      <td>0</td>\n",
       "      <td>0</td>\n",
       "      <td>0</td>\n",
       "      <td>0</td>\n",
       "      <td>4</td>\n",
       "      <td>0</td>\n",
       "      <td>1</td>\n",
       "      <td>0</td>\n",
       "      <td>4</td>\n",
       "      <td>0</td>\n",
       "      <td>0</td>\n",
       "      <td>0</td>\n",
       "      <td>0</td>\n",
       "      <td>0</td>\n",
       "      <td>0</td>\n",
       "      <td>0</td>\n",
       "      <td>0</td>\n",
       "    </tr>\n",
       "    <tr>\n",
       "      <th>1</th>\n",
       "      <td>1</td>\n",
       "      <td>0</td>\n",
       "      <td>0</td>\n",
       "      <td>0</td>\n",
       "      <td>0</td>\n",
       "      <td>3</td>\n",
       "      <td>0</td>\n",
       "      <td>7</td>\n",
       "      <td>7</td>\n",
       "      <td>3</td>\n",
       "      <td>0</td>\n",
       "      <td>0</td>\n",
       "      <td>0</td>\n",
       "      <td>0</td>\n",
       "      <td>0</td>\n",
       "      <td>0</td>\n",
       "      <td>0</td>\n",
       "      <td>0</td>\n",
       "    </tr>\n",
       "    <tr>\n",
       "      <th>2</th>\n",
       "      <td>1</td>\n",
       "      <td>0</td>\n",
       "      <td>0</td>\n",
       "      <td>0</td>\n",
       "      <td>0</td>\n",
       "      <td>24</td>\n",
       "      <td>0</td>\n",
       "      <td>3</td>\n",
       "      <td>2</td>\n",
       "      <td>24</td>\n",
       "      <td>0</td>\n",
       "      <td>0</td>\n",
       "      <td>0</td>\n",
       "      <td>0</td>\n",
       "      <td>0</td>\n",
       "      <td>0</td>\n",
       "      <td>0</td>\n",
       "      <td>0</td>\n",
       "    </tr>\n",
       "    <tr>\n",
       "      <th>3</th>\n",
       "      <td>0</td>\n",
       "      <td>0</td>\n",
       "      <td>0</td>\n",
       "      <td>0</td>\n",
       "      <td>0</td>\n",
       "      <td>1</td>\n",
       "      <td>0</td>\n",
       "      <td>5</td>\n",
       "      <td>0</td>\n",
       "      <td>1</td>\n",
       "      <td>0</td>\n",
       "      <td>0</td>\n",
       "      <td>0</td>\n",
       "      <td>0</td>\n",
       "      <td>0</td>\n",
       "      <td>0</td>\n",
       "      <td>0</td>\n",
       "      <td>0</td>\n",
       "    </tr>\n",
       "    <tr>\n",
       "      <th>4</th>\n",
       "      <td>0</td>\n",
       "      <td>0</td>\n",
       "      <td>0</td>\n",
       "      <td>0</td>\n",
       "      <td>0</td>\n",
       "      <td>2</td>\n",
       "      <td>0</td>\n",
       "      <td>1</td>\n",
       "      <td>0</td>\n",
       "      <td>2</td>\n",
       "      <td>0</td>\n",
       "      <td>0</td>\n",
       "      <td>0</td>\n",
       "      <td>0</td>\n",
       "      <td>0</td>\n",
       "      <td>0</td>\n",
       "      <td>0</td>\n",
       "      <td>0</td>\n",
       "    </tr>\n",
       "  </tbody>\n",
       "</table>\n",
       "</div>"
      ],
      "text/plain": [
       "   ClaimsTruncated  DaysInHospital  ProcedureGroup_ANES  ProcedureGroup_SMCD  \\\n",
       "0                0               0                    0                    0   \n",
       "1                1               0                    0                    0   \n",
       "2                1               0                    0                    0   \n",
       "3                0               0                    0                    0   \n",
       "4                0               0                    0                    0   \n",
       "\n",
       "   PlaceSvc_Ambulance  PlaceSvc_Independent Lab  Specialty_Anesthesiology  \\\n",
       "0                   0                         4                         0   \n",
       "1                   0                         3                         0   \n",
       "2                   0                        24                         0   \n",
       "3                   0                         1                         0   \n",
       "4                   0                         2                         0   \n",
       "\n",
       "   Specialty_Diagnostic Imaging  Specialty_Emergency  Specialty_Laboratory  \\\n",
       "0                             1                    0                     4   \n",
       "1                             7                    7                     3   \n",
       "2                             3                    2                    24   \n",
       "3                             5                    0                     1   \n",
       "4                             1                    0                     2   \n",
       "\n",
       "   Specialty_Obstetrics and Gynecology  Specialty_Pathology  \\\n",
       "0                                    0                    0   \n",
       "1                                    0                    0   \n",
       "2                                    0                    0   \n",
       "3                                    0                    0   \n",
       "4                                    0                    0   \n",
       "\n",
       "   Specialty_Pediatrics  Specialty_Rehabilitation  \\\n",
       "0                     0                         0   \n",
       "1                     0                         0   \n",
       "2                     0                         0   \n",
       "3                     0                         0   \n",
       "4                     0                         0   \n",
       "\n",
       "   PrimaryConditionGroup_APPCHOL  PrimaryConditionGroup_FXDISLC  \\\n",
       "0                              0                              0   \n",
       "1                              0                              0   \n",
       "2                              0                              0   \n",
       "3                              0                              0   \n",
       "4                              0                              0   \n",
       "\n",
       "   PrimaryConditionGroup_GIOBSENT  PrimaryConditionGroup_GYNEC1  \n",
       "0                               0                             0  \n",
       "1                               0                             0  \n",
       "2                               0                             0  \n",
       "3                               0                             0  \n",
       "4                               0                             0  "
      ]
     },
     "execution_count": 71,
     "metadata": {},
     "output_type": "execute_result"
    }
   ],
   "source": [
    "given_final.head()"
   ]
  },
  {
   "cell_type": "markdown",
   "metadata": {},
   "source": [
    "And how about the dataset we've created:"
   ]
  },
  {
   "cell_type": "code",
   "execution_count": 72,
   "metadata": {},
   "outputs": [
    {
     "data": {
      "text/plain": [
       "label                   1.000000\n",
       "max_DrugCount           0.173162\n",
       "ClaimsTruncated         0.167734\n",
       "max_CharlsonIndexI      0.161397\n",
       "avg_DrugCount           0.157510\n",
       "avg_CharlsonIndexI      0.151023\n",
       "AgeI                    0.146692\n",
       "months_LabCount         0.135606\n",
       "months_DrugCount        0.135003\n",
       "max_dsfs                0.133960\n",
       "range_dsfs              0.133305\n",
       "avg_dsfs                0.132384\n",
       "range_CharlsonIndexI    0.120726\n",
       "max_PayDelay            0.111533\n",
       "min_CharlsonIndexI      0.102417\n",
       "max_LabCount            0.095338\n",
       "max_LOS                 0.078603\n",
       "avg_LOS                 0.065573\n",
       "min_DrugCount           0.061915\n",
       "min_LOS                 0.034003\n",
       "avg_LabCount            0.033287\n",
       "min_dsfs                0.026847\n",
       "avg_PayDelay           -0.004347\n",
       "min_LabCount           -0.025444\n",
       "min_PayDelay           -0.071329\n",
       "Name: label, dtype: float64"
      ]
     },
     "execution_count": 72,
     "metadata": {},
     "output_type": "execute_result"
    }
   ],
   "source": [
    "corr_matrix = df_final.corr()\n",
    "corr_matrix[\"label\"].sort_values(ascending=False)"
   ]
  },
  {
   "cell_type": "markdown",
   "metadata": {},
   "source": [
    "There are a a lot of differences but right off the bat I see that ClaimsTruncated is close to the top for both. "
   ]
  },
  {
   "cell_type": "markdown",
   "metadata": {},
   "source": [
    "Lets see what mixing up the features does."
   ]
  },
  {
   "cell_type": "code",
   "execution_count": 74,
   "metadata": {},
   "outputs": [],
   "source": [
    "# column index\n",
    "LabCountSum, PayDelayCount,Specialty_Emergency, payDelaySum, lengthofStay  = 0, 1, 6, 2, 3\n",
    "\n",
    "class CombinedAttributesAdder(BaseEstimator, TransformerMixin):\n",
    "    def __init__(self, add_delay_per_stay = True): # no *args or **kargs\n",
    "        self.add_delay_per_stay = add_delay_per_stay\n",
    "    def fit(self, X, y=None):\n",
    "        return self  # nothing else to do\n",
    "    def transform(self, X, y=None):\n",
    "        if lengthofStay == 0:\n",
    "            lab_per_stay = 0\n",
    "        else:\n",
    "            lab_per_stay = X[:, LabCountSum] / X[:, lengthofStay]\n",
    "        if Specialty_Emergency == 0:\n",
    "            lab_per_SpE = 0\n",
    "        else:\n",
    "            lab_per_SpE = X[:, LabCountSum] / X[:, Specialty_Emergency]\n",
    "        if self.add_delay_per_stay:\n",
    "            if lengthofStay == 0:\n",
    "                delay_per_stay = 0\n",
    "            else:\n",
    "                delay_per_stay = X[:, PayDelayCount] / X[:, lengthofStay]\n",
    "            data = [X, lab_per_stay, lab_per_SpE,\n",
    "                         delay_per_stay]\n",
    "            return pd.DataFrame(data)\n",
    "        else:\n",
    "            data = [X, lab_per_stay, lab_per_SpE]\n",
    "            return pd.DataFrame(data)\n",
    "\n",
    "attr_adder = CombinedAttributesAdder(add_delay_per_stay=True)\n",
    "extra_attribs = attr_adder.transform(train_X.values)"
   ]
  },
  {
   "cell_type": "markdown",
   "metadata": {},
   "source": [
    "## Split into train and test"
   ]
  },
  {
   "cell_type": "code",
   "execution_count": 75,
   "metadata": {},
   "outputs": [],
   "source": [
    "df_train, df_other = train_test_split(df_final, test_size=0.3, random_state=42)\n",
    "df_val, df_test = train_test_split(df_other, test_size=0.5, random_state=42)"
   ]
  },
  {
   "cell_type": "code",
   "execution_count": 76,
   "metadata": {},
   "outputs": [
    {
     "name": "stdout",
     "output_type": "stream",
     "text": [
      "(103231, 26)\n",
      "(22121, 26)\n",
      "(22121, 26)\n"
     ]
    }
   ],
   "source": [
    "print(df_train.shape)\n",
    "print(df_val.shape)\n",
    "print(df_test.shape)"
   ]
  },
  {
   "cell_type": "code",
   "execution_count": 77,
   "metadata": {},
   "outputs": [],
   "source": [
    "lab_enc = preprocessing.LabelEncoder()\n",
    "\n",
    "y_train = lab_enc.fit_transform(df_train['label'])\n",
    "y_val = lab_enc.fit_transform(df_val['label'])\n",
    "y_test = lab_enc.fit_transform(df_test['label'])"
   ]
  },
  {
   "cell_type": "markdown",
   "metadata": {},
   "source": [
    "## Create Feature Pipeline"
   ]
  },
  {
   "cell_type": "code",
   "execution_count": 80,
   "metadata": {},
   "outputs": [],
   "source": [
    "# Definition of the CategoricalEncoder class, copied from PR #9151.\n",
    "# Just run this cell, or copy it to your code, do not try to understand it (yet).\n",
    "class CategoricalEncoder(BaseEstimator, TransformerMixin):\n",
    "    def __init__(self, encoding='onehot', categories='auto', dtype=np.float64,\n",
    "                 handle_unknown='error'):\n",
    "        self.encoding = encoding\n",
    "        self.categories = categories\n",
    "        self.dtype = dtype\n",
    "        self.handle_unknown = handle_unknown\n",
    "\n",
    "    def fit(self, X, y=None):\n",
    "\n",
    "        if self.encoding not in ['onehot', 'onehot-dense', 'ordinal']:\n",
    "            template = (\"encoding should be either 'onehot', 'onehot-dense' \"\n",
    "                        \"or 'ordinal', got %s\")\n",
    "            raise ValueError(template % self.handle_unknown)\n",
    "\n",
    "        if self.handle_unknown not in ['error', 'ignore']:\n",
    "            template = (\"handle_unknown should be either 'error' or \"\n",
    "                        \"'ignore', got %s\")\n",
    "            raise ValueError(template % self.handle_unknown)\n",
    "\n",
    "        if self.encoding == 'ordinal' and self.handle_unknown == 'ignore':\n",
    "            raise ValueError(\"handle_unknown='ignore' is not supported for\"\n",
    "                             \" encoding='ordinal'\")\n",
    "\n",
    "        X = check_array(X, dtype=np.object, accept_sparse='csc', copy=True)\n",
    "        n_samples, n_features = X.shape\n",
    "\n",
    "        self._label_encoders_ = [LabelEncoder() for _ in range(n_features)]\n",
    "\n",
    "        for i in range(n_features):\n",
    "            le = self._label_encoders_[i]\n",
    "            Xi = X[:, i]\n",
    "            if self.categories == 'auto':\n",
    "                le.fit(Xi)\n",
    "            else:\n",
    "                valid_mask = np.in1d(Xi, self.categories[i])\n",
    "                if not np.all(valid_mask):\n",
    "                    if self.handle_unknown == 'error':\n",
    "                        diff = np.unique(Xi[~valid_mask])\n",
    "                        msg = (\"Found unknown categories {0} in column {1}\"\n",
    "                               \" during fit\".format(diff, i))\n",
    "                        raise ValueError(msg)\n",
    "                le.classes_ = np.array(np.sort(self.categories[i]))\n",
    "\n",
    "        self.categories_ = [le.classes_ for le in self._label_encoders_]\n",
    "\n",
    "        return self\n",
    "\n",
    "    def transform(self, X):\n",
    "        X = check_array(X, accept_sparse='csc', dtype=np.object, copy=True)\n",
    "        n_samples, n_features = X.shape\n",
    "        X_int = np.zeros_like(X, dtype=np.int)\n",
    "        X_mask = np.ones_like(X, dtype=np.bool)\n",
    "\n",
    "        for i in range(n_features):\n",
    "            valid_mask = np.in1d(X[:, i], self.categories_[i])\n",
    "\n",
    "            if not np.all(valid_mask):\n",
    "                if self.handle_unknown == 'error':\n",
    "                    diff = np.unique(X[~valid_mask, i])\n",
    "                    msg = (\"Found unknown categories {0} in column {1}\"\n",
    "                           \" during transform\".format(diff, i))\n",
    "                    raise ValueError(msg)\n",
    "                else:\n",
    "                    # Set the problematic rows to an acceptable value and\n",
    "                    # continue `The rows are marked `X_mask` and will be\n",
    "                    # removed later.\n",
    "                    X_mask[:, i] = valid_mask\n",
    "                    X[:, i][~valid_mask] = self.categories_[i][0]\n",
    "            X_int[:, i] = self._label_encoders_[i].transform(X[:, i])\n",
    "\n",
    "        if self.encoding == 'ordinal':\n",
    "            return X_int.astype(self.dtype, copy=False)\n",
    "\n",
    "        mask = X_mask.ravel()\n",
    "        n_values = [cats.shape[0] for cats in self.categories_]\n",
    "        n_values = np.array([0] + n_values)\n",
    "        indices = np.cumsum(n_values)\n",
    "\n",
    "        column_indices = (X_int + indices[:-1]).ravel()[mask]\n",
    "        row_indices = np.repeat(np.arange(n_samples, dtype=np.int32),\n",
    "                                n_features)[mask]\n",
    "        data = np.ones(n_samples * n_features)[mask]\n",
    "\n",
    "        out = sparse.csc_matrix((data, (row_indices, column_indices)),\n",
    "                                shape=(n_samples, indices[-1]),\n",
    "                                dtype=self.dtype).tocsr()\n",
    "        if self.encoding == 'onehot-dense':\n",
    "            return out.toarray()\n",
    "        else:\n",
    "            return out"
   ]
  },
  {
   "cell_type": "code",
   "execution_count": 81,
   "metadata": {},
   "outputs": [],
   "source": [
    "# Identify the numeric features we wish to consider. \n",
    "num_attribs = ['ClaimsTruncated', 'AgeI', 'min_PayDelay', 'max_PayDelay', 'avg_PayDelay',\n",
    "       'min_LOS', 'avg_LOS', 'max_LOS', 'avg_dsfs', \n",
    "       'min_DrugCount', 'months_DrugCount',\n",
    "       'max_DrugCount', 'avg_LabCount', 'max_LabCount', 'months_LabCount',\n",
    "       'min_LabCount']\n",
    "\n",
    "# Create a pipeline for the numeric features.\n",
    "# Missing values will be imputed using the feature median.\n",
    "num_pipeline = Pipeline([\n",
    "        ('selector', DataFrameSelector(num_attribs)),\n",
    "        ('imputer', Imputer(strategy=\"median\")),\n",
    "        ('std_scaler', StandardScaler()),\n",
    "    ])\n",
    "\n",
    "# Identify the categorical features we wish to consider.\n",
    "cat_attribs = [\n",
    "    'Sex'\n",
    "]\n",
    "\n",
    "# Identiy the range of expected values for the categorical features.\n",
    "cat_values = [\n",
    "    ['Sex_f', 'Sex_male']  # Sex\n",
    "]\n",
    "\n",
    "# Create a pipelne for the categorical features.\n",
    "# Entries with missing values or values that don't exist in the range\n",
    "#   defined above will be one hot encoded as zeroes.\n",
    "cat_pipeline = Pipeline([\n",
    "        ('selector', DataFrameSelector(cat_attribs)),\n",
    "        ('imputer', CategoricalImputer()),\n",
    "        ('cat_encoder', CategoricalEncoder(categories=cat_values, encoding=\"onehot-dense\", handle_unknown=\"ignore\"))\n",
    "    ])\n",
    "\n",
    "# Union the transformed, scaled numeric and categorical features.\n",
    "full_pipeline = FeatureUnion(transformer_list=[\n",
    "        (\"num_pipeline\", num_pipeline),\n",
    "        (\"cat_pipeline\", cat_pipeline),\n",
    "    ])"
   ]
  },
  {
   "cell_type": "markdown",
   "metadata": {},
   "source": [
    "## Run the Pipeline"
   ]
  },
  {
   "cell_type": "code",
   "execution_count": 82,
   "metadata": {},
   "outputs": [],
   "source": [
    "X_train = full_pipeline.fit_transform(df_train)\n",
    "X_val = full_pipeline.fit_transform(df_val)\n",
    "X_test = full_pipeline.fit_transform(df_test)"
   ]
  },
  {
   "cell_type": "markdown",
   "metadata": {},
   "source": [
    "## Run pipeline to produce random prediction\n",
    "\n",
    "The max label in our created training set is 2.772589 and the max in the dataset provided is 15. Lets create some random prediction for both to complare our models to. "
   ]
  },
  {
   "cell_type": "code",
   "execution_count": 83,
   "metadata": {},
   "outputs": [],
   "source": [
    "rand_pred_train = lab_enc.fit_transform((np.log(np.random.randint(0,15,np.size(y_train)) + 1)))\n",
    "rand_train_mse = np.sqrt(mean_squared_error(y_train, rand_pred_train))\n",
    "\n",
    "rand_pred_test = lab_enc.fit_transform((np.log(np.random.randint(0,15,np.size(y_val)) + 1)))\n",
    "rand_test_mse = np.sqrt(mean_squared_error(y_val, rand_pred_test))\n",
    "\n",
    "results = pd.DataFrame(columns=[\"ExpID\", \"Train MSE\", \"Test MSE\", \"p-value\", \"Train Time(s)\", \"Test Time(s)\", \"Experiment description\"])\n",
    "results.loc[0] = [\"Random Prediction\", round(rand_train_mse, 4), round(rand_test_mse, 4), \"---\", \"< 1s\", \"< 1s\", \"Numpy Random\"]"
   ]
  },
  {
   "cell_type": "code",
   "execution_count": 84,
   "metadata": {},
   "outputs": [
    {
     "data": {
      "text/html": [
       "<div>\n",
       "<style scoped>\n",
       "    .dataframe tbody tr th:only-of-type {\n",
       "        vertical-align: middle;\n",
       "    }\n",
       "\n",
       "    .dataframe tbody tr th {\n",
       "        vertical-align: top;\n",
       "    }\n",
       "\n",
       "    .dataframe thead th {\n",
       "        text-align: right;\n",
       "    }\n",
       "</style>\n",
       "<table border=\"1\" class=\"dataframe\">\n",
       "  <thead>\n",
       "    <tr style=\"text-align: right;\">\n",
       "      <th></th>\n",
       "      <th>ExpID</th>\n",
       "      <th>Train MSE</th>\n",
       "      <th>Test MSE</th>\n",
       "      <th>p-value</th>\n",
       "      <th>Train Time(s)</th>\n",
       "      <th>Test Time(s)</th>\n",
       "      <th>Experiment description</th>\n",
       "    </tr>\n",
       "  </thead>\n",
       "  <tbody>\n",
       "    <tr>\n",
       "      <th>0</th>\n",
       "      <td>Random Prediction</td>\n",
       "      <td>7.9917</td>\n",
       "      <td>8.0412</td>\n",
       "      <td>---</td>\n",
       "      <td>&lt; 1s</td>\n",
       "      <td>&lt; 1s</td>\n",
       "      <td>Numpy Random</td>\n",
       "    </tr>\n",
       "  </tbody>\n",
       "</table>\n",
       "</div>"
      ],
      "text/plain": [
       "               ExpID  Train MSE  Test MSE p-value Train Time(s) Test Time(s)  \\\n",
       "0  Random Prediction     7.9917    8.0412     ---          < 1s         < 1s   \n",
       "\n",
       "  Experiment description  \n",
       "0           Numpy Random  "
      ]
     },
     "execution_count": 84,
     "metadata": {},
     "output_type": "execute_result"
    }
   ],
   "source": [
    "results"
   ]
  },
  {
   "cell_type": "markdown",
   "metadata": {},
   "source": [
    "## Training Linear Models"
   ]
  },
  {
   "cell_type": "code",
   "execution_count": 85,
   "metadata": {},
   "outputs": [],
   "source": [
    "lr = LinearRegression()\n",
    "lr.fit(X_train, y_train)\n",
    "pred_train_lr = lr.predict(X_train)\n",
    "score_train_lr = np.sqrt(mean_squared_error(y_train, pred_train_lr))\n",
    "pred_test_lr = lr.predict(X_val)\n",
    "score_test_lr = np.sqrt(mean_squared_error(y_val, pred_test_lr))"
   ]
  },
  {
   "cell_type": "markdown",
   "metadata": {},
   "source": [
    "Visualize what the model is predicting compared to the real labels:"
   ]
  },
  {
   "cell_type": "code",
   "execution_count": 86,
   "metadata": {},
   "outputs": [
    {
     "name": "stdout",
     "output_type": "stream",
     "text": [
      "Predictions: [0.23089028 0.87307205 0.56283707 0.34170092 0.38428698]\n"
     ]
    }
   ],
   "source": [
    "some_data = X_train[1:6]\n",
    "some_labels = y_train[1:6]\n",
    "\n",
    "print(\"Predictions:\", lr.predict(some_data))"
   ]
  },
  {
   "cell_type": "markdown",
   "metadata": {},
   "source": [
    "Compare against the actual values:"
   ]
  },
  {
   "cell_type": "code",
   "execution_count": 87,
   "metadata": {},
   "outputs": [
    {
     "name": "stdout",
     "output_type": "stream",
     "text": [
      "Labels: [0, 0, 0, 0, 2]\n"
     ]
    }
   ],
   "source": [
    "print(\"Labels:\", list(some_labels))"
   ]
  },
  {
   "cell_type": "markdown",
   "metadata": {},
   "source": [
    "Model variables and coefficients"
   ]
  },
  {
   "cell_type": "code",
   "execution_count": 88,
   "metadata": {},
   "outputs": [
    {
     "data": {
      "text/plain": [
       "{'ClaimsTruncated': 0.16935928123889651,\n",
       " 'AgeI': 0.10602581405905498,\n",
       " 'min_PayDelay': 0.02313625558964999,\n",
       " 'max_PayDelay': 0.08743422352347408,\n",
       " 'avg_PayDelay': -0.06252867992873602,\n",
       " 'min_LOS': 0.018261609190561953,\n",
       " 'avg_LOS': -0.1025912504324884,\n",
       " 'max_LOS': 0.16026840229268038,\n",
       " 'avg_dsfs': 0.04639462569238757,\n",
       " 'min_DrugCount': 0.020981735835525057,\n",
       " 'months_DrugCount': -0.03009258612962725,\n",
       " 'max_DrugCount': 0.11512339561045665,\n",
       " 'avg_LabCount': 0.04275758002150633,\n",
       " 'max_LabCount': 0.01323644882002109,\n",
       " 'months_LabCount': 0.0032155464925388566,\n",
       " 'min_LabCount': -0.03847789657126113,\n",
       " 'Sex_f': 0.0,\n",
       " 'Sex_male': 0.0}"
      ]
     },
     "execution_count": 88,
     "metadata": {},
     "output_type": "execute_result"
    }
   ],
   "source": [
    "cat_attr = [e for c in cat_values for e in c]\n",
    "lr_model = dict(zip(num_attribs + cat_attr, lr.coef_))\n",
    "lr_model"
   ]
  },
  {
   "cell_type": "code",
   "execution_count": 89,
   "metadata": {},
   "outputs": [
    {
     "data": {
      "text/plain": [
       "1.5444407587943665"
      ]
     },
     "execution_count": 89,
     "metadata": {},
     "output_type": "execute_result"
    }
   ],
   "source": [
    "train_X_predictions = lr.predict(X_train)\n",
    "lr_mse = mean_squared_error(y_train, train_X_predictions)\n",
    "lr_rmse = np.sqrt(lr_mse)\n",
    "lr_rmse"
   ]
  },
  {
   "cell_type": "markdown",
   "metadata": {},
   "source": [
    "An RMSE above 0.5 is not a good indication of the model fit."
   ]
  },
  {
   "cell_type": "code",
   "execution_count": 90,
   "metadata": {},
   "outputs": [
    {
     "data": {
      "text/plain": [
       "0.7268823221694715"
      ]
     },
     "execution_count": 90,
     "metadata": {},
     "output_type": "execute_result"
    }
   ],
   "source": [
    "lr_mae = mean_absolute_error(y_train, train_X_predictions)\n",
    "lr_mae"
   ]
  },
  {
   "cell_type": "markdown",
   "metadata": {},
   "source": [
    "### Bulk Train Linear Models"
   ]
  },
  {
   "cell_type": "code",
   "execution_count": 91,
   "metadata": {},
   "outputs": [
    {
     "name": "stdout",
     "output_type": "stream",
     "text": [
      "The two machine learning pipelines are different (reject H0) \n",
      "(t_score, p_value) = (227.27, 0.00000)\n",
      "The two machine learning pipelines are different (reject H0) \n",
      "(t_score, p_value) = (227.97, 0.00000)\n",
      "The two machine learning pipelines are different (reject H0) \n",
      "(t_score, p_value) = (227.27, 0.00000)\n",
      "The two machine learning pipelines are different (reject H0) \n",
      "(t_score, p_value) = (227.97, 0.00000)\n",
      "The two machine learning pipelines are different (reject H0) \n",
      "(t_score, p_value) = (243.23, 0.00000)\n",
      "The two machine learning pipelines are different (reject H0) \n",
      "(t_score, p_value) = (243.58, 0.00000)\n"
     ]
    }
   ],
   "source": [
    "#Lasso, LinearRegression, LogisticRegression, Ridge, SGDClassifier\n",
    "regressors = [\n",
    "    ('Linear', LinearRegression()),\n",
    "    ('Lasso', Lasso()),\n",
    "    ('Ridge', Ridge()),\n",
    "    ('ElasticNet', ElasticNet()),\n",
    "    ('SGD', SGDClassifier(max_iter=3, tol=None)),\n",
    "    ('Logistic', LogisticRegression()),\n",
    "]\n",
    "\n",
    "for idx, (name, regressor) in enumerate(regressors, 1):\n",
    "    regressor.fit(X_train, y_train)\n",
    "    t0 = time()\n",
    "    cv = ShuffleSplit(n_splits=30, test_size=0.3, random_state=42)\n",
    "    reg_scores = cross_val_score(regressor, X_train, y_train, cv=cv, scoring='neg_mean_squared_error')\n",
    "    reg_score_train = np.sqrt(-1*reg_scores).mean()\n",
    "    t1 = time()\n",
    "    pred_test_reg = regressor.predict(X_val)\n",
    "    score_test_reg = np.sqrt(mean_squared_error(y_val, pred_test_reg))\n",
    "    t2 = time()\n",
    "\n",
    "    time_train = round(t1 - t0, 4)\n",
    "    time_test = round(t2 - t1, 4)\n",
    "\n",
    "    p_value = ttest(rand_pred_test, pred_test_reg)\n",
    "    results.loc[idx] = ['Baseline ' + name, round(reg_score_train, 4), round(score_test_reg, 4), round(p_value, 4), time_train, time_test, 'Default parameters']\n",
    "\n"
   ]
  },
  {
   "cell_type": "code",
   "execution_count": 92,
   "metadata": {},
   "outputs": [
    {
     "data": {
      "text/html": [
       "<div>\n",
       "<style scoped>\n",
       "    .dataframe tbody tr th:only-of-type {\n",
       "        vertical-align: middle;\n",
       "    }\n",
       "\n",
       "    .dataframe tbody tr th {\n",
       "        vertical-align: top;\n",
       "    }\n",
       "\n",
       "    .dataframe thead th {\n",
       "        text-align: right;\n",
       "    }\n",
       "</style>\n",
       "<table border=\"1\" class=\"dataframe\">\n",
       "  <thead>\n",
       "    <tr style=\"text-align: right;\">\n",
       "      <th></th>\n",
       "      <th>ExpID</th>\n",
       "      <th>Train MSE</th>\n",
       "      <th>Test MSE</th>\n",
       "      <th>p-value</th>\n",
       "      <th>Train Time(s)</th>\n",
       "      <th>Test Time(s)</th>\n",
       "      <th>Experiment description</th>\n",
       "    </tr>\n",
       "  </thead>\n",
       "  <tbody>\n",
       "    <tr>\n",
       "      <th>0</th>\n",
       "      <td>Random Prediction</td>\n",
       "      <td>7.9917</td>\n",
       "      <td>8.0412</td>\n",
       "      <td>---</td>\n",
       "      <td>&lt; 1s</td>\n",
       "      <td>&lt; 1s</td>\n",
       "      <td>Numpy Random</td>\n",
       "    </tr>\n",
       "    <tr>\n",
       "      <th>1</th>\n",
       "      <td>Baseline Linear</td>\n",
       "      <td>1.5469</td>\n",
       "      <td>1.4917</td>\n",
       "      <td>0</td>\n",
       "      <td>2.9296</td>\n",
       "      <td>0.0156</td>\n",
       "      <td>Default parameters</td>\n",
       "    </tr>\n",
       "    <tr>\n",
       "      <th>2</th>\n",
       "      <td>Baseline Lasso</td>\n",
       "      <td>1.5851</td>\n",
       "      <td>1.5342</td>\n",
       "      <td>0</td>\n",
       "      <td>2.1854</td>\n",
       "      <td>0</td>\n",
       "      <td>Default parameters</td>\n",
       "    </tr>\n",
       "    <tr>\n",
       "      <th>3</th>\n",
       "      <td>Baseline Ridge</td>\n",
       "      <td>1.5469</td>\n",
       "      <td>1.4917</td>\n",
       "      <td>0</td>\n",
       "      <td>1.758</td>\n",
       "      <td>0.002</td>\n",
       "      <td>Default parameters</td>\n",
       "    </tr>\n",
       "    <tr>\n",
       "      <th>4</th>\n",
       "      <td>Baseline ElasticNet</td>\n",
       "      <td>1.5851</td>\n",
       "      <td>1.5342</td>\n",
       "      <td>0</td>\n",
       "      <td>2.2822</td>\n",
       "      <td>0</td>\n",
       "      <td>Default parameters</td>\n",
       "    </tr>\n",
       "    <tr>\n",
       "      <th>5</th>\n",
       "      <td>Baseline SGD</td>\n",
       "      <td>1.6658</td>\n",
       "      <td>1.5989</td>\n",
       "      <td>0</td>\n",
       "      <td>20.1438</td>\n",
       "      <td>0.0156</td>\n",
       "      <td>Default parameters</td>\n",
       "    </tr>\n",
       "    <tr>\n",
       "      <th>6</th>\n",
       "      <td>Baseline Logistic</td>\n",
       "      <td>1.6503</td>\n",
       "      <td>1.5962</td>\n",
       "      <td>0</td>\n",
       "      <td>261.325</td>\n",
       "      <td>0.0156</td>\n",
       "      <td>Default parameters</td>\n",
       "    </tr>\n",
       "  </tbody>\n",
       "</table>\n",
       "</div>"
      ],
      "text/plain": [
       "                 ExpID  Train MSE  Test MSE p-value Train Time(s)  \\\n",
       "0    Random Prediction     7.9917    8.0412     ---          < 1s   \n",
       "1      Baseline Linear     1.5469    1.4917       0        2.9296   \n",
       "2       Baseline Lasso     1.5851    1.5342       0        2.1854   \n",
       "3       Baseline Ridge     1.5469    1.4917       0         1.758   \n",
       "4  Baseline ElasticNet     1.5851    1.5342       0        2.2822   \n",
       "5         Baseline SGD     1.6658    1.5989       0       20.1438   \n",
       "6    Baseline Logistic     1.6503    1.5962       0       261.325   \n",
       "\n",
       "  Test Time(s) Experiment description  \n",
       "0         < 1s           Numpy Random  \n",
       "1       0.0156     Default parameters  \n",
       "2            0     Default parameters  \n",
       "3        0.002     Default parameters  \n",
       "4            0     Default parameters  \n",
       "5       0.0156     Default parameters  \n",
       "6       0.0156     Default parameters  "
      ]
     },
     "execution_count": 92,
     "metadata": {},
     "output_type": "execute_result"
    }
   ],
   "source": [
    "results"
   ]
  },
  {
   "cell_type": "markdown",
   "metadata": {},
   "source": [
    "This is pretty terrible."
   ]
  },
  {
   "cell_type": "markdown",
   "metadata": {},
   "source": [
    "## Train a Decision Tree Regressor\n",
    "Train on the training  data and test on the training data (to verify pipelines are working)"
   ]
  },
  {
   "cell_type": "code",
   "execution_count": 93,
   "metadata": {},
   "outputs": [
    {
     "data": {
      "text/plain": [
       "DecisionTreeRegressor(criterion='mse', max_depth=None, max_features=None,\n",
       "           max_leaf_nodes=None, min_impurity_decrease=0.0,\n",
       "           min_impurity_split=None, min_samples_leaf=1,\n",
       "           min_samples_split=2, min_weight_fraction_leaf=0.0,\n",
       "           presort=False, random_state=42, splitter='best')"
      ]
     },
     "execution_count": 93,
     "metadata": {},
     "output_type": "execute_result"
    }
   ],
   "source": [
    "tree_reg = DecisionTreeRegressor(random_state=42)\n",
    "tree_reg.fit(X_train, y_train)"
   ]
  },
  {
   "cell_type": "code",
   "execution_count": 94,
   "metadata": {},
   "outputs": [
    {
     "data": {
      "text/plain": [
       "0.23439024608372871"
      ]
     },
     "execution_count": 94,
     "metadata": {},
     "output_type": "execute_result"
    }
   ],
   "source": [
    "train_X_predictions = tree_reg.predict(X_train)\n",
    "tree_mse = mean_squared_error(y_train, train_X_predictions)\n",
    "tree_rmse = np.sqrt(tree_mse)\n",
    "tree_rmse"
   ]
  },
  {
   "cell_type": "markdown",
   "metadata": {},
   "source": [
    "### Error on the TRAINING data\n",
    "Oh! an RMSE < 0.5 is a good sign, maybe something exciting is coming! Lets compare to the linear models and the random prediction."
   ]
  },
  {
   "cell_type": "code",
   "execution_count": 95,
   "metadata": {},
   "outputs": [
    {
     "name": "stdout",
     "output_type": "stream",
     "text": [
      "The two machine learning pipelines are different (reject H0) \n",
      "(t_score, p_value) = (206.94, 0.00000)\n"
     ]
    }
   ],
   "source": [
    "regressor = DecisionTreeRegressor(random_state=42)\n",
    "\n",
    "regressor.fit(X_train, y_train)\n",
    "t0 = time()\n",
    "cv = ShuffleSplit(n_splits=30, test_size=0.3, random_state=42)\n",
    "reg_scores = cross_val_score(regressor, X_train, y_train, cv=cv, scoring='neg_mean_squared_error')\n",
    "reg_score_train = np.sqrt(-1*reg_scores).mean()\n",
    "t1 = time()\n",
    "pred_test_reg = regressor.predict(X_val)\n",
    "score_test_reg = np.sqrt(mean_squared_error(y_val, pred_test_reg))\n",
    "t2 = time()\n",
    "\n",
    "time_train = round(t1 - t0, 4)\n",
    "time_test = round(t2 - t1, 4)\n",
    "\n",
    "p_value = ttest(rand_pred_test, pred_test_reg)\n",
    "results.loc[7] = ['DecisionTree', round(reg_score_train, 4), round(score_test_reg, 4), round(p_value, 4), time_train, time_test, 'random_state=42']\n",
    "\n"
   ]
  },
  {
   "cell_type": "code",
   "execution_count": 96,
   "metadata": {},
   "outputs": [
    {
     "data": {
      "text/html": [
       "<div>\n",
       "<style scoped>\n",
       "    .dataframe tbody tr th:only-of-type {\n",
       "        vertical-align: middle;\n",
       "    }\n",
       "\n",
       "    .dataframe tbody tr th {\n",
       "        vertical-align: top;\n",
       "    }\n",
       "\n",
       "    .dataframe thead th {\n",
       "        text-align: right;\n",
       "    }\n",
       "</style>\n",
       "<table border=\"1\" class=\"dataframe\">\n",
       "  <thead>\n",
       "    <tr style=\"text-align: right;\">\n",
       "      <th></th>\n",
       "      <th>ExpID</th>\n",
       "      <th>Train MSE</th>\n",
       "      <th>Test MSE</th>\n",
       "      <th>p-value</th>\n",
       "      <th>Train Time(s)</th>\n",
       "      <th>Test Time(s)</th>\n",
       "      <th>Experiment description</th>\n",
       "    </tr>\n",
       "  </thead>\n",
       "  <tbody>\n",
       "    <tr>\n",
       "      <th>0</th>\n",
       "      <td>Random Prediction</td>\n",
       "      <td>7.9917</td>\n",
       "      <td>8.0412</td>\n",
       "      <td>---</td>\n",
       "      <td>&lt; 1s</td>\n",
       "      <td>&lt; 1s</td>\n",
       "      <td>Numpy Random</td>\n",
       "    </tr>\n",
       "    <tr>\n",
       "      <th>1</th>\n",
       "      <td>Baseline Linear</td>\n",
       "      <td>1.5469</td>\n",
       "      <td>1.4917</td>\n",
       "      <td>0</td>\n",
       "      <td>2.9296</td>\n",
       "      <td>0.0156</td>\n",
       "      <td>Default parameters</td>\n",
       "    </tr>\n",
       "    <tr>\n",
       "      <th>2</th>\n",
       "      <td>Baseline Lasso</td>\n",
       "      <td>1.5851</td>\n",
       "      <td>1.5342</td>\n",
       "      <td>0</td>\n",
       "      <td>2.1854</td>\n",
       "      <td>0</td>\n",
       "      <td>Default parameters</td>\n",
       "    </tr>\n",
       "    <tr>\n",
       "      <th>3</th>\n",
       "      <td>Baseline Ridge</td>\n",
       "      <td>1.5469</td>\n",
       "      <td>1.4917</td>\n",
       "      <td>0</td>\n",
       "      <td>1.758</td>\n",
       "      <td>0.002</td>\n",
       "      <td>Default parameters</td>\n",
       "    </tr>\n",
       "    <tr>\n",
       "      <th>4</th>\n",
       "      <td>Baseline ElasticNet</td>\n",
       "      <td>1.5851</td>\n",
       "      <td>1.5342</td>\n",
       "      <td>0</td>\n",
       "      <td>2.2822</td>\n",
       "      <td>0</td>\n",
       "      <td>Default parameters</td>\n",
       "    </tr>\n",
       "    <tr>\n",
       "      <th>5</th>\n",
       "      <td>Baseline SGD</td>\n",
       "      <td>1.6658</td>\n",
       "      <td>1.5989</td>\n",
       "      <td>0</td>\n",
       "      <td>20.1438</td>\n",
       "      <td>0.0156</td>\n",
       "      <td>Default parameters</td>\n",
       "    </tr>\n",
       "    <tr>\n",
       "      <th>6</th>\n",
       "      <td>Baseline Logistic</td>\n",
       "      <td>1.6503</td>\n",
       "      <td>1.5962</td>\n",
       "      <td>0</td>\n",
       "      <td>261.325</td>\n",
       "      <td>0.0156</td>\n",
       "      <td>Default parameters</td>\n",
       "    </tr>\n",
       "    <tr>\n",
       "      <th>7</th>\n",
       "      <td>DecisionTree</td>\n",
       "      <td>2.3013</td>\n",
       "      <td>2.2947</td>\n",
       "      <td>0</td>\n",
       "      <td>20.9996</td>\n",
       "      <td>0.0156</td>\n",
       "      <td>random_state=42</td>\n",
       "    </tr>\n",
       "  </tbody>\n",
       "</table>\n",
       "</div>"
      ],
      "text/plain": [
       "                 ExpID  Train MSE  Test MSE p-value Train Time(s)  \\\n",
       "0    Random Prediction     7.9917    8.0412     ---          < 1s   \n",
       "1      Baseline Linear     1.5469    1.4917       0        2.9296   \n",
       "2       Baseline Lasso     1.5851    1.5342       0        2.1854   \n",
       "3       Baseline Ridge     1.5469    1.4917       0         1.758   \n",
       "4  Baseline ElasticNet     1.5851    1.5342       0        2.2822   \n",
       "5         Baseline SGD     1.6658    1.5989       0       20.1438   \n",
       "6    Baseline Logistic     1.6503    1.5962       0       261.325   \n",
       "7         DecisionTree     2.3013    2.2947       0       20.9996   \n",
       "\n",
       "  Test Time(s) Experiment description  \n",
       "0         < 1s           Numpy Random  \n",
       "1       0.0156     Default parameters  \n",
       "2            0     Default parameters  \n",
       "3        0.002     Default parameters  \n",
       "4            0     Default parameters  \n",
       "5       0.0156     Default parameters  \n",
       "6       0.0156     Default parameters  \n",
       "7       0.0156        random_state=42  "
      ]
     },
     "execution_count": 96,
     "metadata": {},
     "output_type": "execute_result"
    }
   ],
   "source": [
    "results"
   ]
  },
  {
   "cell_type": "markdown",
   "metadata": {},
   "source": [
    "## Linear Models for the Given Dataset"
   ]
  },
  {
   "cell_type": "code",
   "execution_count": 97,
   "metadata": {},
   "outputs": [
    {
     "data": {
      "text/plain": [
       "(104495, 18)"
      ]
     },
     "execution_count": 97,
     "metadata": {},
     "output_type": "execute_result"
    }
   ],
   "source": [
    "given_final['label'] = np.log(given_final['DaysInHospital'] + 1)\n",
    "given_final = given_final.drop(['DaysInHospital'], axis=1)\n",
    "given_final.shape"
   ]
  },
  {
   "cell_type": "code",
   "execution_count": 98,
   "metadata": {},
   "outputs": [
    {
     "data": {
      "text/html": [
       "<div>\n",
       "<style scoped>\n",
       "    .dataframe tbody tr th:only-of-type {\n",
       "        vertical-align: middle;\n",
       "    }\n",
       "\n",
       "    .dataframe tbody tr th {\n",
       "        vertical-align: top;\n",
       "    }\n",
       "\n",
       "    .dataframe thead th {\n",
       "        text-align: right;\n",
       "    }\n",
       "</style>\n",
       "<table border=\"1\" class=\"dataframe\">\n",
       "  <thead>\n",
       "    <tr style=\"text-align: right;\">\n",
       "      <th></th>\n",
       "      <th>ClaimsTruncated</th>\n",
       "      <th>ProcedureGroup_ANES</th>\n",
       "      <th>ProcedureGroup_SMCD</th>\n",
       "      <th>PlaceSvc_Ambulance</th>\n",
       "      <th>PlaceSvc_Independent Lab</th>\n",
       "      <th>Specialty_Anesthesiology</th>\n",
       "      <th>Specialty_Diagnostic Imaging</th>\n",
       "      <th>Specialty_Emergency</th>\n",
       "      <th>Specialty_Laboratory</th>\n",
       "      <th>Specialty_Obstetrics and Gynecology</th>\n",
       "      <th>Specialty_Pathology</th>\n",
       "      <th>Specialty_Pediatrics</th>\n",
       "      <th>Specialty_Rehabilitation</th>\n",
       "      <th>PrimaryConditionGroup_APPCHOL</th>\n",
       "      <th>PrimaryConditionGroup_FXDISLC</th>\n",
       "      <th>PrimaryConditionGroup_GIOBSENT</th>\n",
       "      <th>PrimaryConditionGroup_GYNEC1</th>\n",
       "      <th>label</th>\n",
       "    </tr>\n",
       "  </thead>\n",
       "  <tbody>\n",
       "    <tr>\n",
       "      <th>0</th>\n",
       "      <td>0</td>\n",
       "      <td>0</td>\n",
       "      <td>0</td>\n",
       "      <td>0</td>\n",
       "      <td>4</td>\n",
       "      <td>0</td>\n",
       "      <td>1</td>\n",
       "      <td>0</td>\n",
       "      <td>4</td>\n",
       "      <td>0</td>\n",
       "      <td>0</td>\n",
       "      <td>0</td>\n",
       "      <td>0</td>\n",
       "      <td>0</td>\n",
       "      <td>0</td>\n",
       "      <td>0</td>\n",
       "      <td>0</td>\n",
       "      <td>0.0</td>\n",
       "    </tr>\n",
       "    <tr>\n",
       "      <th>1</th>\n",
       "      <td>1</td>\n",
       "      <td>0</td>\n",
       "      <td>0</td>\n",
       "      <td>0</td>\n",
       "      <td>3</td>\n",
       "      <td>0</td>\n",
       "      <td>7</td>\n",
       "      <td>7</td>\n",
       "      <td>3</td>\n",
       "      <td>0</td>\n",
       "      <td>0</td>\n",
       "      <td>0</td>\n",
       "      <td>0</td>\n",
       "      <td>0</td>\n",
       "      <td>0</td>\n",
       "      <td>0</td>\n",
       "      <td>0</td>\n",
       "      <td>0.0</td>\n",
       "    </tr>\n",
       "    <tr>\n",
       "      <th>2</th>\n",
       "      <td>1</td>\n",
       "      <td>0</td>\n",
       "      <td>0</td>\n",
       "      <td>0</td>\n",
       "      <td>24</td>\n",
       "      <td>0</td>\n",
       "      <td>3</td>\n",
       "      <td>2</td>\n",
       "      <td>24</td>\n",
       "      <td>0</td>\n",
       "      <td>0</td>\n",
       "      <td>0</td>\n",
       "      <td>0</td>\n",
       "      <td>0</td>\n",
       "      <td>0</td>\n",
       "      <td>0</td>\n",
       "      <td>0</td>\n",
       "      <td>0.0</td>\n",
       "    </tr>\n",
       "    <tr>\n",
       "      <th>3</th>\n",
       "      <td>0</td>\n",
       "      <td>0</td>\n",
       "      <td>0</td>\n",
       "      <td>0</td>\n",
       "      <td>1</td>\n",
       "      <td>0</td>\n",
       "      <td>5</td>\n",
       "      <td>0</td>\n",
       "      <td>1</td>\n",
       "      <td>0</td>\n",
       "      <td>0</td>\n",
       "      <td>0</td>\n",
       "      <td>0</td>\n",
       "      <td>0</td>\n",
       "      <td>0</td>\n",
       "      <td>0</td>\n",
       "      <td>0</td>\n",
       "      <td>0.0</td>\n",
       "    </tr>\n",
       "    <tr>\n",
       "      <th>4</th>\n",
       "      <td>0</td>\n",
       "      <td>0</td>\n",
       "      <td>0</td>\n",
       "      <td>0</td>\n",
       "      <td>2</td>\n",
       "      <td>0</td>\n",
       "      <td>1</td>\n",
       "      <td>0</td>\n",
       "      <td>2</td>\n",
       "      <td>0</td>\n",
       "      <td>0</td>\n",
       "      <td>0</td>\n",
       "      <td>0</td>\n",
       "      <td>0</td>\n",
       "      <td>0</td>\n",
       "      <td>0</td>\n",
       "      <td>0</td>\n",
       "      <td>0.0</td>\n",
       "    </tr>\n",
       "  </tbody>\n",
       "</table>\n",
       "</div>"
      ],
      "text/plain": [
       "   ClaimsTruncated  ProcedureGroup_ANES  ProcedureGroup_SMCD  \\\n",
       "0                0                    0                    0   \n",
       "1                1                    0                    0   \n",
       "2                1                    0                    0   \n",
       "3                0                    0                    0   \n",
       "4                0                    0                    0   \n",
       "\n",
       "   PlaceSvc_Ambulance  PlaceSvc_Independent Lab  Specialty_Anesthesiology  \\\n",
       "0                   0                         4                         0   \n",
       "1                   0                         3                         0   \n",
       "2                   0                        24                         0   \n",
       "3                   0                         1                         0   \n",
       "4                   0                         2                         0   \n",
       "\n",
       "   Specialty_Diagnostic Imaging  Specialty_Emergency  Specialty_Laboratory  \\\n",
       "0                             1                    0                     4   \n",
       "1                             7                    7                     3   \n",
       "2                             3                    2                    24   \n",
       "3                             5                    0                     1   \n",
       "4                             1                    0                     2   \n",
       "\n",
       "   Specialty_Obstetrics and Gynecology  Specialty_Pathology  \\\n",
       "0                                    0                    0   \n",
       "1                                    0                    0   \n",
       "2                                    0                    0   \n",
       "3                                    0                    0   \n",
       "4                                    0                    0   \n",
       "\n",
       "   Specialty_Pediatrics  Specialty_Rehabilitation  \\\n",
       "0                     0                         0   \n",
       "1                     0                         0   \n",
       "2                     0                         0   \n",
       "3                     0                         0   \n",
       "4                     0                         0   \n",
       "\n",
       "   PrimaryConditionGroup_APPCHOL  PrimaryConditionGroup_FXDISLC  \\\n",
       "0                              0                              0   \n",
       "1                              0                              0   \n",
       "2                              0                              0   \n",
       "3                              0                              0   \n",
       "4                              0                              0   \n",
       "\n",
       "   PrimaryConditionGroup_GIOBSENT  PrimaryConditionGroup_GYNEC1  label  \n",
       "0                               0                             0    0.0  \n",
       "1                               0                             0    0.0  \n",
       "2                               0                             0    0.0  \n",
       "3                               0                             0    0.0  \n",
       "4                               0                             0    0.0  "
      ]
     },
     "execution_count": 98,
     "metadata": {},
     "output_type": "execute_result"
    }
   ],
   "source": [
    "given_final.head()"
   ]
  },
  {
   "cell_type": "code",
   "execution_count": 99,
   "metadata": {},
   "outputs": [],
   "source": [
    "given_train, given_other = train_test_split(given_final, test_size=0.3, random_state=42)\n",
    "given_val, given_test = train_test_split(given_other, test_size=0.5, random_state=42)"
   ]
  },
  {
   "cell_type": "code",
   "execution_count": 100,
   "metadata": {},
   "outputs": [],
   "source": [
    "y_given_train = lab_enc.fit_transform(given_train['label'])\n",
    "y_given_val = lab_enc.fit_transform(given_val['label'])\n",
    "y_given_test = lab_enc.fit_transform(given_test['label'])"
   ]
  },
  {
   "cell_type": "code",
   "execution_count": 101,
   "metadata": {},
   "outputs": [],
   "source": [
    "X_given_train = given_train.drop(['label'], axis=1)\n",
    "X_given_val = given_val.drop(['label'], axis=1)\n",
    "X_given_test = given_test.drop(['label'], axis=1)"
   ]
  },
  {
   "cell_type": "code",
   "execution_count": 102,
   "metadata": {},
   "outputs": [],
   "source": [
    "rand_pred_train = lab_enc.fit_transform((np.log(np.random.randint(0,15,np.size(y_given_train)) + 1)))\n",
    "rand_train_mse = np.sqrt(mean_squared_error(y_given_train, rand_pred_train))\n",
    "\n",
    "rand_pred_test = lab_enc.fit_transform((np.log(np.random.randint(0,15,np.size(y_given_val)) + 1)))\n",
    "rand_test_mse = np.sqrt(mean_squared_error(y_given_val, rand_pred_test))\n",
    "\n",
    "results = pd.DataFrame(columns=[\"ExpID\", \"Train MSE\", \"Test MSE\", \"p-value\", \"Train Time(s)\", \"Test Time(s)\", \"Experiment description\"])\n",
    "results.loc[0] = [\"Random Prediction\", round(rand_train_mse, 4), round(rand_test_mse, 4), \"---\", \"< 1s\", \"< 1s\", \"Numpy Random\"]"
   ]
  },
  {
   "cell_type": "code",
   "execution_count": 103,
   "metadata": {},
   "outputs": [
    {
     "data": {
      "text/html": [
       "<div>\n",
       "<style scoped>\n",
       "    .dataframe tbody tr th:only-of-type {\n",
       "        vertical-align: middle;\n",
       "    }\n",
       "\n",
       "    .dataframe tbody tr th {\n",
       "        vertical-align: top;\n",
       "    }\n",
       "\n",
       "    .dataframe thead th {\n",
       "        text-align: right;\n",
       "    }\n",
       "</style>\n",
       "<table border=\"1\" class=\"dataframe\">\n",
       "  <thead>\n",
       "    <tr style=\"text-align: right;\">\n",
       "      <th></th>\n",
       "      <th>ExpID</th>\n",
       "      <th>Train MSE</th>\n",
       "      <th>Test MSE</th>\n",
       "      <th>p-value</th>\n",
       "      <th>Train Time(s)</th>\n",
       "      <th>Test Time(s)</th>\n",
       "      <th>Experiment description</th>\n",
       "    </tr>\n",
       "  </thead>\n",
       "  <tbody>\n",
       "    <tr>\n",
       "      <th>0</th>\n",
       "      <td>Random Prediction</td>\n",
       "      <td>7.993</td>\n",
       "      <td>7.9449</td>\n",
       "      <td>---</td>\n",
       "      <td>&lt; 1s</td>\n",
       "      <td>&lt; 1s</td>\n",
       "      <td>Numpy Random</td>\n",
       "    </tr>\n",
       "  </tbody>\n",
       "</table>\n",
       "</div>"
      ],
      "text/plain": [
       "               ExpID  Train MSE  Test MSE p-value Train Time(s) Test Time(s)  \\\n",
       "0  Random Prediction      7.993    7.9449     ---          < 1s         < 1s   \n",
       "\n",
       "  Experiment description  \n",
       "0           Numpy Random  "
      ]
     },
     "execution_count": 103,
     "metadata": {},
     "output_type": "execute_result"
    }
   ],
   "source": [
    "results"
   ]
  },
  {
   "cell_type": "code",
   "execution_count": 104,
   "metadata": {},
   "outputs": [
    {
     "name": "stdout",
     "output_type": "stream",
     "text": [
      "The two machine learning pipelines are different (reject H0) \n",
      "(t_score, p_value) = (187.41, 0.00000)\n",
      "The two machine learning pipelines are different (reject H0) \n",
      "(t_score, p_value) = (188.25, 0.00000)\n",
      "The two machine learning pipelines are different (reject H0) \n",
      "(t_score, p_value) = (187.41, 0.00000)\n",
      "The two machine learning pipelines are different (reject H0) \n",
      "(t_score, p_value) = (188.17, 0.00000)\n",
      "The two machine learning pipelines are different (reject H0) \n",
      "(t_score, p_value) = (203.35, 0.00000)\n",
      "The two machine learning pipelines are different (reject H0) \n",
      "(t_score, p_value) = (203.37, 0.00000)\n"
     ]
    }
   ],
   "source": [
    "regressors = [\n",
    "    ('Linear', LinearRegression()),\n",
    "    ('Lasso', Lasso()),\n",
    "    ('Ridge', Ridge()),\n",
    "    ('ElasticNet', ElasticNet()),\n",
    "    ('SGD', SGDClassifier(max_iter=3, tol=None)),\n",
    "    ('Logistic', LogisticRegression()),\n",
    "]\n",
    "\n",
    "for idx, (name, regressor) in enumerate(regressors, 1):\n",
    "    regressor.fit(X_given_train, y_given_train)\n",
    "    t0 = time()\n",
    "    cv = ShuffleSplit(n_splits=30, test_size=0.3, random_state=42)\n",
    "    reg_scores = cross_val_score(regressor, X_given_train, y_given_train, cv=cv, scoring='neg_mean_squared_error')\n",
    "    reg_score_train = np.sqrt(-1*reg_scores).mean()\n",
    "    t1 = time()\n",
    "    pred_test_reg = regressor.predict(X_given_val)\n",
    "    score_test_reg = np.sqrt(mean_squared_error(y_given_val, pred_test_reg))\n",
    "    t2 = time()\n",
    "\n",
    "    time_train = round(t1 - t0, 4)\n",
    "    time_test = round(t2 - t1, 4)\n",
    "\n",
    "    p_value = ttest(rand_pred_test, pred_test_reg)\n",
    "    results.loc[idx] = ['Baseline ' + name, round(reg_score_train, 4), round(score_test_reg, 4), round(p_value, 4), time_train, time_test, 'Default parameters']\n"
   ]
  },
  {
   "cell_type": "code",
   "execution_count": 105,
   "metadata": {},
   "outputs": [
    {
     "data": {
      "text/html": [
       "<div>\n",
       "<style scoped>\n",
       "    .dataframe tbody tr th:only-of-type {\n",
       "        vertical-align: middle;\n",
       "    }\n",
       "\n",
       "    .dataframe tbody tr th {\n",
       "        vertical-align: top;\n",
       "    }\n",
       "\n",
       "    .dataframe thead th {\n",
       "        text-align: right;\n",
       "    }\n",
       "</style>\n",
       "<table border=\"1\" class=\"dataframe\">\n",
       "  <thead>\n",
       "    <tr style=\"text-align: right;\">\n",
       "      <th></th>\n",
       "      <th>ExpID</th>\n",
       "      <th>Train MSE</th>\n",
       "      <th>Test MSE</th>\n",
       "      <th>p-value</th>\n",
       "      <th>Train Time(s)</th>\n",
       "      <th>Test Time(s)</th>\n",
       "      <th>Experiment description</th>\n",
       "    </tr>\n",
       "  </thead>\n",
       "  <tbody>\n",
       "    <tr>\n",
       "      <th>0</th>\n",
       "      <td>Random Prediction</td>\n",
       "      <td>7.9930</td>\n",
       "      <td>7.9449</td>\n",
       "      <td>---</td>\n",
       "      <td>&lt; 1s</td>\n",
       "      <td>&lt; 1s</td>\n",
       "      <td>Numpy Random</td>\n",
       "    </tr>\n",
       "    <tr>\n",
       "      <th>1</th>\n",
       "      <td>Baseline Linear</td>\n",
       "      <td>1.6812</td>\n",
       "      <td>1.7480</td>\n",
       "      <td>0</td>\n",
       "      <td>1.8622</td>\n",
       "      <td>0</td>\n",
       "      <td>Default parameters</td>\n",
       "    </tr>\n",
       "    <tr>\n",
       "      <th>2</th>\n",
       "      <td>Baseline Lasso</td>\n",
       "      <td>1.7178</td>\n",
       "      <td>1.7947</td>\n",
       "      <td>0</td>\n",
       "      <td>1.3718</td>\n",
       "      <td>0</td>\n",
       "      <td>Default parameters</td>\n",
       "    </tr>\n",
       "    <tr>\n",
       "      <th>3</th>\n",
       "      <td>Baseline Ridge</td>\n",
       "      <td>1.6812</td>\n",
       "      <td>1.7480</td>\n",
       "      <td>0</td>\n",
       "      <td>1.3386</td>\n",
       "      <td>0</td>\n",
       "      <td>Default parameters</td>\n",
       "    </tr>\n",
       "    <tr>\n",
       "      <th>4</th>\n",
       "      <td>Baseline ElasticNet</td>\n",
       "      <td>1.7102</td>\n",
       "      <td>1.7852</td>\n",
       "      <td>0</td>\n",
       "      <td>5.8784</td>\n",
       "      <td>0.0156</td>\n",
       "      <td>Default parameters</td>\n",
       "    </tr>\n",
       "    <tr>\n",
       "      <th>5</th>\n",
       "      <td>Baseline SGD</td>\n",
       "      <td>1.9315</td>\n",
       "      <td>1.8767</td>\n",
       "      <td>0</td>\n",
       "      <td>12.3552</td>\n",
       "      <td>0.0156</td>\n",
       "      <td>Default parameters</td>\n",
       "    </tr>\n",
       "    <tr>\n",
       "      <th>6</th>\n",
       "      <td>Baseline Logistic</td>\n",
       "      <td>1.7952</td>\n",
       "      <td>1.8756</td>\n",
       "      <td>0</td>\n",
       "      <td>113.738</td>\n",
       "      <td>0.0156</td>\n",
       "      <td>Default parameters</td>\n",
       "    </tr>\n",
       "  </tbody>\n",
       "</table>\n",
       "</div>"
      ],
      "text/plain": [
       "                 ExpID  Train MSE  Test MSE p-value Train Time(s)  \\\n",
       "0    Random Prediction     7.9930    7.9449     ---          < 1s   \n",
       "1      Baseline Linear     1.6812    1.7480       0        1.8622   \n",
       "2       Baseline Lasso     1.7178    1.7947       0        1.3718   \n",
       "3       Baseline Ridge     1.6812    1.7480       0        1.3386   \n",
       "4  Baseline ElasticNet     1.7102    1.7852       0        5.8784   \n",
       "5         Baseline SGD     1.9315    1.8767       0       12.3552   \n",
       "6    Baseline Logistic     1.7952    1.8756       0       113.738   \n",
       "\n",
       "  Test Time(s) Experiment description  \n",
       "0         < 1s           Numpy Random  \n",
       "1            0     Default parameters  \n",
       "2            0     Default parameters  \n",
       "3            0     Default parameters  \n",
       "4       0.0156     Default parameters  \n",
       "5       0.0156     Default parameters  \n",
       "6       0.0156     Default parameters  "
      ]
     },
     "execution_count": 105,
     "metadata": {},
     "output_type": "execute_result"
    }
   ],
   "source": [
    "results"
   ]
  },
  {
   "cell_type": "code",
   "execution_count": null,
   "metadata": {},
   "outputs": [],
   "source": [
    "from sklearn import model_selection\n",
    "names = list(X_given_train)\n",
    "seed = 7\n",
    "# prepare models\n",
    "models = []\n",
    "models.append(('LR', LogisticRegression()))\n",
    "models.append(('LDA', LinearDiscriminantAnalysis()))\n",
    "models.append(('KNN', KNeighborsClassifier()))\n",
    "models.append(('CART', DecisionTreeClassifier()))\n",
    "models.append(('NB', GaussianNB()))\n",
    "models.append(('SVM', SVC()))\n",
    "# evaluate each model in turn\n",
    "results = []\n",
    "names = []\n",
    "scoring = 'accuracy'\n",
    "for name, model in models:\n",
    "    kfold = model_selection.KFold(n_splits=10, random_state=seed)\n",
    "    cv_results = model_selection.cross_val_score(model, X_given_train, y_given_train, cv=kfold, scoring=scoring)\n",
    "    results.append(cv_results)\n",
    "    names.append(name)\n",
    "    msg = \"%s: %f (%f)\" % (name, cv_results.mean(), cv_results.std())\n",
    "    print(msg)\n",
    "# boxplot algorithm comparison\n",
    "fig = plt.figure()\n",
    "fig.suptitle('Algorithm Comparison')\n",
    "ax = fig.add_subplot(111)\n",
    "plt.boxplot(results)\n",
    "ax.set_xticklabels(names)\n",
    "plt.show()"
   ]
  },
  {
   "cell_type": "markdown",
   "metadata": {},
   "source": [
    "## Objective evaluation via  K-fold crossfold validation"
   ]
  },
  {
   "cell_type": "code",
   "execution_count": 374,
   "metadata": {},
   "outputs": [],
   "source": [
    "scores = cross_val_score(tree_reg, X_train, y_train,\n",
    "                         scoring=\"neg_mean_squared_error\", cv=10)\n",
    "tree_rmse_scores = np.sqrt(-scores)"
   ]
  },
  {
   "cell_type": "code",
   "execution_count": 375,
   "metadata": {},
   "outputs": [
    {
     "name": "stdout",
     "output_type": "stream",
     "text": [
      "Scores: [2.2229349  2.31234559 2.34036345 2.30867837 2.27025803 2.20212301\n",
      " 2.26568697 2.31469845 2.29108991 2.22962475]\n",
      "Mean: 2.2757803413629163\n",
      "Standard deviation: 0.04338205908209473\n"
     ]
    }
   ],
   "source": [
    "def display_scores(scores):\n",
    "    print(\"Scores:\", scores)\n",
    "    print(\"Mean:\", scores.mean())\n",
    "    print(\"Standard deviation:\", scores.std())\n",
    "\n",
    "display_scores(tree_rmse_scores)"
   ]
  },
  {
   "cell_type": "markdown",
   "metadata": {},
   "source": [
    "### Minimize MSE is equivalent to maximizing (-MSE)\n",
    "Grid search will use cross_val_score based on maximizing a utility performance measure. So we maximize(-MSE) here."
   ]
  },
  {
   "cell_type": "code",
   "execution_count": 377,
   "metadata": {},
   "outputs": [
    {
     "name": "stdout",
     "output_type": "stream",
     "text": [
      "Scores: [1.57017111 1.51125749 1.61446655 1.5538616  1.57988286 1.49477792\n",
      " 1.53853761 1.53050832 1.54554827 1.50923342]\n",
      "Mean: 1.5448245157854423\n",
      "Standard deviation: 0.034563497088910294\n"
     ]
    }
   ],
   "source": [
    "lin_scores = cross_val_score(lr, X_train, y_train,\n",
    "                             scoring=\"neg_mean_squared_error\", cv=10)\n",
    "lin_rmse_scores = np.sqrt(-lin_scores)\n",
    "display_scores(lin_rmse_scores)"
   ]
  },
  {
   "cell_type": "code",
   "execution_count": 379,
   "metadata": {},
   "outputs": [
    {
     "data": {
      "text/plain": [
       "RandomForestRegressor(bootstrap=True, criterion='mse', max_depth=None,\n",
       "           max_features='auto', max_leaf_nodes=None,\n",
       "           min_impurity_decrease=0.0, min_impurity_split=None,\n",
       "           min_samples_leaf=1, min_samples_split=2,\n",
       "           min_weight_fraction_leaf=0.0, n_estimators=10, n_jobs=1,\n",
       "           oob_score=False, random_state=42, verbose=0, warm_start=False)"
      ]
     },
     "execution_count": 379,
     "metadata": {},
     "output_type": "execute_result"
    }
   ],
   "source": [
    "forest_reg = RandomForestRegressor(random_state=42)\n",
    "forest_reg.fit(X_train, y_train)"
   ]
  },
  {
   "cell_type": "code",
   "execution_count": 382,
   "metadata": {},
   "outputs": [
    {
     "data": {
      "text/plain": [
       "0.7381220713513715"
      ]
     },
     "execution_count": 382,
     "metadata": {},
     "output_type": "execute_result"
    }
   ],
   "source": [
    "trainY2_predictions = forest_reg.predict(X_train)\n",
    "forest_mse = mean_squared_error(y_train, trainY2_predictions)\n",
    "forest_rmse = np.sqrt(forest_mse)\n",
    "forest_rmse"
   ]
  },
  {
   "cell_type": "code",
   "execution_count": 383,
   "metadata": {},
   "outputs": [
    {
     "name": "stdout",
     "output_type": "stream",
     "text": [
      "Scores: [1.71388463 1.65803682 1.73515516 1.7002682  1.71365027 1.62683294\n",
      " 1.65994911 1.66556663 1.6659297  1.63417111]\n",
      "Mean: 1.6773444578575716\n",
      "Standard deviation: 0.03446827470443095\n"
     ]
    }
   ],
   "source": [
    "forest_scores = cross_val_score(forest_reg, X_train, y_train,\n",
    "                                scoring=\"neg_mean_squared_error\", cv=10)\n",
    "forest_rmse_scores = np.sqrt(-forest_scores)\n",
    "display_scores(forest_rmse_scores)"
   ]
  },
  {
   "cell_type": "code",
   "execution_count": 384,
   "metadata": {},
   "outputs": [
    {
     "data": {
      "text/plain": [
       "count    10.000000\n",
       "mean      1.544825\n",
       "std       0.036433\n",
       "min       1.494778\n",
       "25%       1.516070\n",
       "50%       1.542043\n",
       "75%       1.566094\n",
       "max       1.614467\n",
       "dtype: float64"
      ]
     },
     "execution_count": 384,
     "metadata": {},
     "output_type": "execute_result"
    }
   ],
   "source": [
    "scores = cross_val_score(lr, X_train, y_train, scoring=\"neg_mean_squared_error\", cv=10)\n",
    "pd.Series(np.sqrt(-scores)).describe()"
   ]
  },
  {
   "cell_type": "code",
   "execution_count": 385,
   "metadata": {},
   "outputs": [
    {
     "data": {
      "text/plain": [
       "GridSearchCV(cv=5, error_score='raise',\n",
       "       estimator=RandomForestRegressor(bootstrap=True, criterion='mse', max_depth=None,\n",
       "           max_features='auto', max_leaf_nodes=None,\n",
       "           min_impurity_decrease=0.0, min_impurity_split=None,\n",
       "           min_samples_leaf=1, min_samples_split=2,\n",
       "           min_weight_fraction_leaf=0.0, n_estimators=10, n_jobs=1,\n",
       "           oob_score=False, random_state=42, verbose=0, warm_start=False),\n",
       "       fit_params=None, iid=True, n_jobs=1,\n",
       "       param_grid=[{'n_estimators': [3, 10, 30], 'max_features': [2, 4, 6, 8]}, {'bootstrap': [False], 'n_estimators': [3, 10], 'max_features': [2, 3, 4]}],\n",
       "       pre_dispatch='2*n_jobs', refit=True, return_train_score='warn',\n",
       "       scoring='neg_mean_squared_error', verbose=0)"
      ]
     },
     "execution_count": 385,
     "metadata": {},
     "output_type": "execute_result"
    }
   ],
   "source": [
    "param_grid = [\n",
    "    # try 12 (3×4) combinations of hyperparameters\n",
    "    {'n_estimators': [3, 10, 30], 'max_features': [2, 4, 6, 8]},\n",
    "    # then try 6 (2×3) combinations with bootstrap set as False\n",
    "    {'bootstrap': [False], 'n_estimators': [3, 10], 'max_features': [2, 3, 4]},\n",
    "  ]\n",
    "\n",
    "forest_reg = RandomForestRegressor(random_state=42)\n",
    "# train across 5 folds, that's a total of (12+6)*5=90 rounds of training \n",
    "grid_search = GridSearchCV(forest_reg, param_grid, cv=5,\n",
    "                           scoring='neg_mean_squared_error')\n",
    "grid_search.fit(X_train, y_train)"
   ]
  },
  {
   "cell_type": "code",
   "execution_count": 386,
   "metadata": {},
   "outputs": [
    {
     "data": {
      "text/plain": [
       "{'max_features': 2, 'n_estimators': 30}"
      ]
     },
     "execution_count": 386,
     "metadata": {},
     "output_type": "execute_result"
    }
   ],
   "source": [
    "grid_search.best_params_"
   ]
  },
  {
   "cell_type": "markdown",
   "metadata": {},
   "source": [
    "Because the max estimator is our set max of 30 we should probably run again with higher values."
   ]
  },
  {
   "cell_type": "code",
   "execution_count": 387,
   "metadata": {},
   "outputs": [
    {
     "data": {
      "text/plain": [
       "RandomForestRegressor(bootstrap=True, criterion='mse', max_depth=None,\n",
       "           max_features=2, max_leaf_nodes=None, min_impurity_decrease=0.0,\n",
       "           min_impurity_split=None, min_samples_leaf=1,\n",
       "           min_samples_split=2, min_weight_fraction_leaf=0.0,\n",
       "           n_estimators=30, n_jobs=1, oob_score=False, random_state=42,\n",
       "           verbose=0, warm_start=False)"
      ]
     },
     "execution_count": 387,
     "metadata": {},
     "output_type": "execute_result"
    }
   ],
   "source": [
    "grid_search.best_estimator_"
   ]
  },
  {
   "cell_type": "code",
   "execution_count": 397,
   "metadata": {},
   "outputs": [
    {
     "data": {
      "text/plain": [
       "['ClaimsTruncated',\n",
       " 'AgeI',\n",
       " 'min_PayDelay',\n",
       " 'max_PayDelay',\n",
       " 'avg_PayDelay',\n",
       " 'min_LOS',\n",
       " 'avg_LOS',\n",
       " 'max_LOS',\n",
       " 'avg_dsfs',\n",
       " 'min_DrugCount',\n",
       " 'months_DrugCount',\n",
       " 'max_DrugCount',\n",
       " 'avg_LabCount',\n",
       " 'max_LabCount',\n",
       " 'months_LabCount',\n",
       " 'min_LabCount']"
      ]
     },
     "execution_count": 397,
     "metadata": {},
     "output_type": "execute_result"
    }
   ],
   "source": [
    "num_attribs"
   ]
  },
  {
   "cell_type": "code",
   "execution_count": 416,
   "metadata": {},
   "outputs": [
    {
     "data": {
      "text/plain": [
       "[(0.004936310825153033, 'min_LOS'),\n",
       " (0.00862502353959566, 'max_LOS'),\n",
       " (0.012443914967679576, 'avg_LOS'),\n",
       " (0.01882606721105323, 'ClaimsTruncated'),\n",
       " (0.031161737939850158, 'min_DrugCount'),\n",
       " (0.038001144630625636, 'min_LabCount'),\n",
       " (0.04775971798408856, 'months_LabCount'),\n",
       " (0.050251979043986435, 'max_LabCount'),\n",
       " (0.05025505574995035, 'max_DrugCount'),\n",
       " (0.06699240750747841, 'AgeI'),\n",
       " (0.07017659789415448, 'months_DrugCount'),\n",
       " (0.07789501574363221, 'avg_LabCount'),\n",
       " (0.0999365281233156, 'max_PayDelay'),\n",
       " (0.12152368107045872, 'min_PayDelay'),\n",
       " (0.14157657582605598, 'avg_dsfs'),\n",
       " (0.15963824194292203, 'avg_PayDelay')]"
      ]
     },
     "execution_count": 416,
     "metadata": {},
     "output_type": "execute_result"
    }
   ],
   "source": [
    "sortedFeatures = sorted(zip(grid_search.best_estimator_.feature_importances_,num_attribs), reverse=False)\n",
    "sortedFeatures"
   ]
  },
  {
   "cell_type": "code",
   "execution_count": 417,
   "metadata": {},
   "outputs": [
    {
     "data": {
      "image/png": "[encoded data removed]",
      "text/plain": [
       "<Figure size 432x288 with 1 Axes>"
      ]
     },
     "metadata": {},
     "output_type": "display_data"
    }
   ],
   "source": [
    "# Plot the feature importances of the forest\n",
    "%matplotlib inline\n",
    "import matplotlib\n",
    "import matplotlib.pyplot as plt\n",
    "plt.figure() \n",
    "plt.title(\"Feature importances\")\n",
    "sortedNames = np.array(sortedFeatures)[:, 1]\n",
    "sortedImportances = np.array(sortedFeatures)[:, 0]\n",
    "\n",
    "plt.title('Feature Importances')\n",
    "plt.barh(range(len(sortedNames)), sortedImportances, color='b', align='center')\n",
    "plt.yticks(range(len(sortedNames)), sortedNames)\n",
    "plt.xlabel('Relative Importance')\n",
    "plt.grid()\n",
    "plt.show()"
   ]
  },
  {
   "cell_type": "markdown",
   "metadata": {},
   "source": [
    "### RandomizedSearchCV"
   ]
  },
  {
   "cell_type": "code",
   "execution_count": 406,
   "metadata": {},
   "outputs": [
    {
     "data": {
      "text/plain": [
       "RandomizedSearchCV(cv=5, error_score='raise',\n",
       "          estimator=RandomForestRegressor(bootstrap=True, criterion='mse', max_depth=None,\n",
       "           max_features='auto', max_leaf_nodes=None,\n",
       "           min_impurity_decrease=0.0, min_impurity_split=None,\n",
       "           min_samples_leaf=1, min_samples_split=2,\n",
       "           min_weight_fraction_leaf=0.0, n_estimators=10, n_jobs=1,\n",
       "           oob_score=False, random_state=42, verbose=0, warm_start=False),\n",
       "          fit_params=None, iid=True, n_iter=10, n_jobs=1,\n",
       "          param_distributions={'n_estimators': <scipy.stats._distn_infrastructure.rv_frozen object at 0x000000003420E438>, 'max_features': <scipy.stats._distn_infrastructure.rv_frozen object at 0x000000003420E550>},\n",
       "          pre_dispatch='2*n_jobs', random_state=42, refit=True,\n",
       "          return_train_score='warn', scoring='neg_mean_squared_error',\n",
       "          verbose=0)"
      ]
     },
     "execution_count": 406,
     "metadata": {},
     "output_type": "execute_result"
    }
   ],
   "source": [
    "param_distribs = {\n",
    "        'n_estimators': randint(low=1, high=50),\n",
    "        'max_features': randint(low=1, high=8),\n",
    "    }\n",
    "\n",
    "forest_reg = RandomForestRegressor(random_state=42)\n",
    "rnd_search = RandomizedSearchCV(forest_reg, param_distributions=param_distribs,\n",
    "                                n_iter=10, cv=5, scoring='neg_mean_squared_error', random_state=42)\n",
    "rnd_search.fit(X_train, y_train)"
   ]
  },
  {
   "cell_type": "code",
   "execution_count": 410,
   "metadata": {},
   "outputs": [
    {
     "data": {
      "text/plain": [
       "{'max_features': 5, 'n_estimators': 36}"
      ]
     },
     "execution_count": 410,
     "metadata": {},
     "output_type": "execute_result"
    }
   ],
   "source": [
    "rnd_search.best_params_"
   ]
  },
  {
   "cell_type": "code",
   "execution_count": 411,
   "metadata": {},
   "outputs": [
    {
     "data": {
      "text/plain": [
       "RandomForestRegressor(bootstrap=True, criterion='mse', max_depth=None,\n",
       "           max_features=5, max_leaf_nodes=None, min_impurity_decrease=0.0,\n",
       "           min_impurity_split=None, min_samples_leaf=1,\n",
       "           min_samples_split=2, min_weight_fraction_leaf=0.0,\n",
       "           n_estimators=36, n_jobs=1, oob_score=False, random_state=42,\n",
       "           verbose=0, warm_start=False)"
      ]
     },
     "execution_count": 411,
     "metadata": {},
     "output_type": "execute_result"
    }
   ],
   "source": [
    "rnd_search.best_estimator_"
   ]
  },
  {
   "cell_type": "code",
   "execution_count": 420,
   "metadata": {},
   "outputs": [
    {
     "data": {
      "text/plain": [
       "[(0.004720092930944332, 'min_LOS'),\n",
       " (0.007734659751156816, 'max_LOS'),\n",
       " (0.012581080997258924, 'avg_LOS'),\n",
       " (0.01851072898053474, 'ClaimsTruncated'),\n",
       " (0.029261338131732182, 'min_DrugCount'),\n",
       " (0.04114246552012518, 'min_LabCount'),\n",
       " (0.04650339723420902, 'months_LabCount'),\n",
       " (0.04749898368456347, 'max_DrugCount'),\n",
       " (0.05099683178425062, 'max_LabCount'),\n",
       " (0.05456765579081361, 'AgeI'),\n",
       " (0.06541715823097585, 'months_DrugCount'),\n",
       " (0.08144073443677094, 'avg_LabCount'),\n",
       " (0.0971175310743048, 'max_PayDelay'),\n",
       " (0.11678928748149661, 'min_PayDelay'),\n",
       " (0.15461720817992478, 'avg_dsfs'),\n",
       " (0.17110084579093807, 'avg_PayDelay')]"
      ]
     },
     "execution_count": 420,
     "metadata": {},
     "output_type": "execute_result"
    }
   ],
   "source": [
    "sortedFeatures = sorted(zip(rnd_search.best_estimator_.feature_importances_,num_attribs), reverse=False)\n",
    "sortedFeatures"
   ]
  },
  {
   "cell_type": "code",
   "execution_count": 421,
   "metadata": {},
   "outputs": [
    {
     "data": {
      "image/png": "[encoded data removed]",
      "text/plain": [
       "<Figure size 432x288 with 1 Axes>"
      ]
     },
     "metadata": {},
     "output_type": "display_data"
    }
   ],
   "source": [
    "# Plot the feature importances of the forest\n",
    "%matplotlib inline\n",
    "import matplotlib\n",
    "import matplotlib.pyplot as plt\n",
    "plt.figure() \n",
    "plt.title(\"Feature importances\")\n",
    "sortedNames = np.array(sortedFeatures)[:, 1]\n",
    "sortedImportances = np.array(sortedFeatures)[:, 0]\n",
    "\n",
    "plt.title('Feature Importances')\n",
    "plt.barh(range(len(sortedNames)), sortedImportances, color='b', align='center')\n",
    "plt.yticks(range(len(sortedNames)), sortedNames)\n",
    "plt.xlabel('Relative Importance')\n",
    "plt.grid()\n",
    "plt.show()"
   ]
  }
 ],
 "metadata": {
  "kernelspec": {
   "display_name": "Python 3",
   "language": "python",
   "name": "python3"
  },
  "language_info": {
   "codemirror_mode": {
    "name": "ipython",
    "version": 3
   },
   "file_extension": ".py",
   "mimetype": "text/x-python",
   "name": "python",
   "nbconvert_exporter": "python",
   "pygments_lexer": "ipython3",
   "version": "3.6.4"
  },
  "nav_menu": {
   "height": "279px",
   "width": "309px"
  },
  "toc": {
   "nav_menu": {},
   "number_sections": true,
   "sideBar": true,
   "skip_h1_title": false,
   "toc_cell": false,
   "toc_position": {
    "height": "867px",
    "left": "0px",
    "right": "1870.23px",
    "top": "107px",
    "width": "269px"
   },
   "toc_section_display": "block",
   "toc_window_display": true
  }
 },
 "nbformat": 4,
 "nbformat_minor": 1
}
